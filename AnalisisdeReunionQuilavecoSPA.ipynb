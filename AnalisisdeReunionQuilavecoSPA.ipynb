{
  "cells": [
    {
      "cell_type": "markdown",
      "metadata": {
        "id": "view-in-github",
        "colab_type": "text"
      },
      "source": [
        "<a href=\"https://colab.research.google.com/github/paolominguzzi/AI_For_Business_Curriculum/blob/master/AnalisisdeReunionQuilavecoSPA.ipynb\" target=\"_parent\"><img src=\"https://colab.research.google.com/assets/colab-badge.svg\" alt=\"Open In Colab\"/></a>"
      ]
    },
    {
      "cell_type": "markdown",
      "metadata": {
        "id": "pm2oPrIyy-xo"
      },
      "source": [
        "Paso 2: Instala las dependencias necesarias\n",
        "En la primera celda, copia y pega este código y ejecútalo:"
      ]
    },
    {
      "cell_type": "code",
      "execution_count": 4,
      "metadata": {
        "colab": {
          "base_uri": "https://localhost:8080/"
        },
        "id": "BI0TB9CIyWHY",
        "outputId": "70d4f38c-ac19-46f0-ff02-a4cefb537c4f"
      },
      "outputs": [
        {
          "output_type": "stream",
          "name": "stdout",
          "text": [
            "Collecting whisper\n",
            "  Downloading whisper-1.1.10.tar.gz (42 kB)\n",
            "\u001b[?25l     \u001b[90m━━━━━━━━━━━━━━━━━━━━━━━━━━━━━━━━━━━━━━━━\u001b[0m \u001b[32m0.0/42.8 kB\u001b[0m \u001b[31m?\u001b[0m eta \u001b[36m-:--:--\u001b[0m\r\u001b[2K     \u001b[90m━━━━━━━━━━━━━━━━━━━━━━━━━━━━━━━━━━━━━━━━\u001b[0m \u001b[32m42.8/42.8 kB\u001b[0m \u001b[31m2.3 MB/s\u001b[0m eta \u001b[36m0:00:00\u001b[0m\n",
            "\u001b[?25h  Preparing metadata (setup.py) ... \u001b[?25l\u001b[?25hdone\n",
            "Requirement already satisfied: six in /usr/local/lib/python3.10/dist-packages (from whisper) (1.16.0)\n",
            "Building wheels for collected packages: whisper\n",
            "  Building wheel for whisper (setup.py) ... \u001b[?25l\u001b[?25hdone\n",
            "  Created wheel for whisper: filename=whisper-1.1.10-py3-none-any.whl size=41120 sha256=e903bcbc0583ffff9652cc8c05cd0459da03f112233397832cb9a5995944fd7e\n",
            "  Stored in directory: /root/.cache/pip/wheels/aa/7c/1d/015619716e2facae6631312503baf3c3220e6a9a3508cb14b6\n",
            "Successfully built whisper\n",
            "Installing collected packages: whisper\n",
            "Successfully installed whisper-1.1.10\n",
            "Get:1 http://security.ubuntu.com/ubuntu jammy-security InRelease [129 kB]\n",
            "Get:2 https://developer.download.nvidia.com/compute/cuda/repos/ubuntu2204/x86_64  InRelease [1,581 B]\n",
            "Hit:3 https://ppa.launchpadcontent.net/deadsnakes/ppa/ubuntu jammy InRelease\n",
            "Hit:4 https://ppa.launchpadcontent.net/graphics-drivers/ppa/ubuntu jammy InRelease\n",
            "Hit:5 https://ppa.launchpadcontent.net/ubuntugis/ppa/ubuntu jammy InRelease\n",
            "Hit:6 http://archive.ubuntu.com/ubuntu jammy InRelease\n",
            "Get:7 http://archive.ubuntu.com/ubuntu jammy-updates InRelease [128 kB]\n",
            "Get:8 http://security.ubuntu.com/ubuntu jammy-security/restricted amd64 Packages [3,323 kB]\n",
            "Get:9 https://cloud.r-project.org/bin/linux/ubuntu jammy-cran40/ InRelease [3,626 B]\n",
            "Get:10 http://security.ubuntu.com/ubuntu jammy-security/main amd64 Packages [2,452 kB]\n",
            "Get:11 https://developer.download.nvidia.com/compute/cuda/repos/ubuntu2204/x86_64  Packages [1,172 kB]\n",
            "Get:12 http://security.ubuntu.com/ubuntu jammy-security/universe amd64 Packages [1,223 kB]\n",
            "Get:13 https://r2u.stat.illinois.edu/ubuntu jammy InRelease [6,555 B]\n",
            "Get:14 http://archive.ubuntu.com/ubuntu jammy-backports InRelease [127 kB]\n",
            "Get:15 http://archive.ubuntu.com/ubuntu jammy-updates/main amd64 Packages [2,734 kB]\n",
            "Get:16 https://r2u.stat.illinois.edu/ubuntu jammy/main amd64 Packages [2,618 kB]\n",
            "Get:17 http://archive.ubuntu.com/ubuntu jammy-updates/universe amd64 Packages [1,512 kB]\n",
            "Get:18 https://r2u.stat.illinois.edu/ubuntu jammy/main all Packages [8,508 kB]\n",
            "Fetched 23.9 MB in 3s (7,260 kB/s)\n",
            "Reading package lists... Done\n",
            "Building dependency tree... Done\n",
            "Reading state information... Done\n",
            "49 packages can be upgraded. Run 'apt list --upgradable' to see them.\n",
            "\u001b[1;33mW: \u001b[0mSkipping acquire of configured file 'main/source/Sources' as repository 'https://r2u.stat.illinois.edu/ubuntu jammy InRelease' does not seem to provide it (sources.list entry misspelt?)\u001b[0m\n",
            "Reading package lists... Done\n",
            "Building dependency tree... Done\n",
            "Reading state information... Done\n",
            "ffmpeg is already the newest version (7:4.4.2-0ubuntu0.22.04.1).\n",
            "0 upgraded, 0 newly installed, 0 to remove and 49 not upgraded.\n"
          ]
        }
      ],
      "source": [
        "!pip install whisper\n",
        "!sudo apt update && sudo apt install ffmpeg"
      ]
    },
    {
      "cell_type": "markdown",
      "metadata": {
        "id": "GkiJ5c-QzGe2"
      },
      "source": [
        "Paso 3: Carga tu archivo de audio\n",
        "En el panel izquierdo de Colab, haz clic en la pestaña de \"Archivos\".\n",
        "Sube tu archivo de audio haciendo clic en el icono de \"Subir\"."
      ]
    },
    {
      "cell_type": "code",
      "execution_count": 5,
      "metadata": {
        "colab": {
          "base_uri": "https://localhost:8080/",
          "height": 73
        },
        "id": "I1VmAwQszHMT",
        "outputId": "d0c7e7d0-2273-4044-8658-ac64fc549b93"
      },
      "outputs": [
        {
          "output_type": "display_data",
          "data": {
            "text/plain": [
              "<IPython.core.display.HTML object>"
            ],
            "text/html": [
              "\n",
              "     <input type=\"file\" id=\"files-7aa64f16-c75e-42be-bcfa-217664d5d767\" name=\"files[]\" multiple disabled\n",
              "        style=\"border:none\" />\n",
              "     <output id=\"result-7aa64f16-c75e-42be-bcfa-217664d5d767\">\n",
              "      Upload widget is only available when the cell has been executed in the\n",
              "      current browser session. Please rerun this cell to enable.\n",
              "      </output>\n",
              "      <script>// Copyright 2017 Google LLC\n",
              "//\n",
              "// Licensed under the Apache License, Version 2.0 (the \"License\");\n",
              "// you may not use this file except in compliance with the License.\n",
              "// You may obtain a copy of the License at\n",
              "//\n",
              "//      http://www.apache.org/licenses/LICENSE-2.0\n",
              "//\n",
              "// Unless required by applicable law or agreed to in writing, software\n",
              "// distributed under the License is distributed on an \"AS IS\" BASIS,\n",
              "// WITHOUT WARRANTIES OR CONDITIONS OF ANY KIND, either express or implied.\n",
              "// See the License for the specific language governing permissions and\n",
              "// limitations under the License.\n",
              "\n",
              "/**\n",
              " * @fileoverview Helpers for google.colab Python module.\n",
              " */\n",
              "(function(scope) {\n",
              "function span(text, styleAttributes = {}) {\n",
              "  const element = document.createElement('span');\n",
              "  element.textContent = text;\n",
              "  for (const key of Object.keys(styleAttributes)) {\n",
              "    element.style[key] = styleAttributes[key];\n",
              "  }\n",
              "  return element;\n",
              "}\n",
              "\n",
              "// Max number of bytes which will be uploaded at a time.\n",
              "const MAX_PAYLOAD_SIZE = 100 * 1024;\n",
              "\n",
              "function _uploadFiles(inputId, outputId) {\n",
              "  const steps = uploadFilesStep(inputId, outputId);\n",
              "  const outputElement = document.getElementById(outputId);\n",
              "  // Cache steps on the outputElement to make it available for the next call\n",
              "  // to uploadFilesContinue from Python.\n",
              "  outputElement.steps = steps;\n",
              "\n",
              "  return _uploadFilesContinue(outputId);\n",
              "}\n",
              "\n",
              "// This is roughly an async generator (not supported in the browser yet),\n",
              "// where there are multiple asynchronous steps and the Python side is going\n",
              "// to poll for completion of each step.\n",
              "// This uses a Promise to block the python side on completion of each step,\n",
              "// then passes the result of the previous step as the input to the next step.\n",
              "function _uploadFilesContinue(outputId) {\n",
              "  const outputElement = document.getElementById(outputId);\n",
              "  const steps = outputElement.steps;\n",
              "\n",
              "  const next = steps.next(outputElement.lastPromiseValue);\n",
              "  return Promise.resolve(next.value.promise).then((value) => {\n",
              "    // Cache the last promise value to make it available to the next\n",
              "    // step of the generator.\n",
              "    outputElement.lastPromiseValue = value;\n",
              "    return next.value.response;\n",
              "  });\n",
              "}\n",
              "\n",
              "/**\n",
              " * Generator function which is called between each async step of the upload\n",
              " * process.\n",
              " * @param {string} inputId Element ID of the input file picker element.\n",
              " * @param {string} outputId Element ID of the output display.\n",
              " * @return {!Iterable<!Object>} Iterable of next steps.\n",
              " */\n",
              "function* uploadFilesStep(inputId, outputId) {\n",
              "  const inputElement = document.getElementById(inputId);\n",
              "  inputElement.disabled = false;\n",
              "\n",
              "  const outputElement = document.getElementById(outputId);\n",
              "  outputElement.innerHTML = '';\n",
              "\n",
              "  const pickedPromise = new Promise((resolve) => {\n",
              "    inputElement.addEventListener('change', (e) => {\n",
              "      resolve(e.target.files);\n",
              "    });\n",
              "  });\n",
              "\n",
              "  const cancel = document.createElement('button');\n",
              "  inputElement.parentElement.appendChild(cancel);\n",
              "  cancel.textContent = 'Cancel upload';\n",
              "  const cancelPromise = new Promise((resolve) => {\n",
              "    cancel.onclick = () => {\n",
              "      resolve(null);\n",
              "    };\n",
              "  });\n",
              "\n",
              "  // Wait for the user to pick the files.\n",
              "  const files = yield {\n",
              "    promise: Promise.race([pickedPromise, cancelPromise]),\n",
              "    response: {\n",
              "      action: 'starting',\n",
              "    }\n",
              "  };\n",
              "\n",
              "  cancel.remove();\n",
              "\n",
              "  // Disable the input element since further picks are not allowed.\n",
              "  inputElement.disabled = true;\n",
              "\n",
              "  if (!files) {\n",
              "    return {\n",
              "      response: {\n",
              "        action: 'complete',\n",
              "      }\n",
              "    };\n",
              "  }\n",
              "\n",
              "  for (const file of files) {\n",
              "    const li = document.createElement('li');\n",
              "    li.append(span(file.name, {fontWeight: 'bold'}));\n",
              "    li.append(span(\n",
              "        `(${file.type || 'n/a'}) - ${file.size} bytes, ` +\n",
              "        `last modified: ${\n",
              "            file.lastModifiedDate ? file.lastModifiedDate.toLocaleDateString() :\n",
              "                                    'n/a'} - `));\n",
              "    const percent = span('0% done');\n",
              "    li.appendChild(percent);\n",
              "\n",
              "    outputElement.appendChild(li);\n",
              "\n",
              "    const fileDataPromise = new Promise((resolve) => {\n",
              "      const reader = new FileReader();\n",
              "      reader.onload = (e) => {\n",
              "        resolve(e.target.result);\n",
              "      };\n",
              "      reader.readAsArrayBuffer(file);\n",
              "    });\n",
              "    // Wait for the data to be ready.\n",
              "    let fileData = yield {\n",
              "      promise: fileDataPromise,\n",
              "      response: {\n",
              "        action: 'continue',\n",
              "      }\n",
              "    };\n",
              "\n",
              "    // Use a chunked sending to avoid message size limits. See b/62115660.\n",
              "    let position = 0;\n",
              "    do {\n",
              "      const length = Math.min(fileData.byteLength - position, MAX_PAYLOAD_SIZE);\n",
              "      const chunk = new Uint8Array(fileData, position, length);\n",
              "      position += length;\n",
              "\n",
              "      const base64 = btoa(String.fromCharCode.apply(null, chunk));\n",
              "      yield {\n",
              "        response: {\n",
              "          action: 'append',\n",
              "          file: file.name,\n",
              "          data: base64,\n",
              "        },\n",
              "      };\n",
              "\n",
              "      let percentDone = fileData.byteLength === 0 ?\n",
              "          100 :\n",
              "          Math.round((position / fileData.byteLength) * 100);\n",
              "      percent.textContent = `${percentDone}% done`;\n",
              "\n",
              "    } while (position < fileData.byteLength);\n",
              "  }\n",
              "\n",
              "  // All done.\n",
              "  yield {\n",
              "    response: {\n",
              "      action: 'complete',\n",
              "    }\n",
              "  };\n",
              "}\n",
              "\n",
              "scope.google = scope.google || {};\n",
              "scope.google.colab = scope.google.colab || {};\n",
              "scope.google.colab._files = {\n",
              "  _uploadFiles,\n",
              "  _uploadFilesContinue,\n",
              "};\n",
              "})(self);\n",
              "</script> "
            ]
          },
          "metadata": {}
        },
        {
          "output_type": "stream",
          "name": "stdout",
          "text": [
            "Saving Reu Quilagro.m4a to Reu Quilagro.m4a\n"
          ]
        }
      ],
      "source": [
        "from google.colab import files\n",
        "\n",
        "# Upload your files\n",
        "uploaded = files.upload()"
      ]
    },
    {
      "cell_type": "code",
      "execution_count": 6,
      "metadata": {
        "colab": {
          "base_uri": "https://localhost:8080/"
        },
        "id": "kecBWGk8ZtGY",
        "outputId": "cb8de97a-388c-479c-9def-8ec16c37297c"
      },
      "outputs": [
        {
          "output_type": "stream",
          "name": "stdout",
          "text": [
            "Requirement already satisfied: whisper in /usr/local/lib/python3.10/dist-packages (1.1.10)\n",
            "Requirement already satisfied: six in /usr/local/lib/python3.10/dist-packages (from whisper) (1.16.0)\n"
          ]
        }
      ],
      "source": [
        "!pip install --upgrade whisper"
      ]
    },
    {
      "cell_type": "code",
      "execution_count": 7,
      "metadata": {
        "colab": {
          "base_uri": "https://localhost:8080/"
        },
        "id": "RyKbDRV9Z-ra",
        "outputId": "3f656cc1-590e-4bb5-84b0-7e6b52ba6e66"
      },
      "outputs": [
        {
          "output_type": "stream",
          "name": "stdout",
          "text": [
            "Found existing installation: whisper 1.1.10\n",
            "Uninstalling whisper-1.1.10:\n",
            "  Successfully uninstalled whisper-1.1.10\n",
            "Collecting whisper\n",
            "  Using cached whisper-1.1.10-py3-none-any.whl\n",
            "Requirement already satisfied: six in /usr/local/lib/python3.10/dist-packages (from whisper) (1.16.0)\n",
            "Installing collected packages: whisper\n",
            "Successfully installed whisper-1.1.10\n"
          ]
        }
      ],
      "source": [
        "!pip uninstall -y whisper\n",
        "!pip install whisper"
      ]
    },
    {
      "cell_type": "code",
      "execution_count": 8,
      "metadata": {
        "colab": {
          "base_uri": "https://localhost:8080/"
        },
        "id": "zYo0sLuOasyM",
        "outputId": "c69e5c15-7228-4311-ef7e-efaf8f7c6e7c"
      },
      "outputs": [
        {
          "output_type": "stream",
          "name": "stdout",
          "text": [
            "Requirement already satisfied: whisper in /usr/local/lib/python3.10/dist-packages (1.1.10)\n",
            "Requirement already satisfied: six in /usr/local/lib/python3.10/dist-packages (from whisper) (1.16.0)\n",
            "Error: 'whisper' is not a module or does not have 'load_model'. Please check your installation.\n"
          ]
        }
      ],
      "source": [
        "!pip install --upgrade whisper  # Asegúrate de tener la última versión de Whisper instalada\n",
        "\n",
        "import whisper\n",
        "import os # Import the 'os' module\n",
        "\n",
        "# Check if whisper is a module and has the load_model attribute\n",
        "if not isinstance(whisper, type(os)) or not hasattr(whisper, \"load_model\"):\n",
        "    print(\"Error: 'whisper' is not a module or does not have 'load_model'. Please check your installation.\")\n",
        "else:\n",
        "    # Carga el modelo de Whisper\n",
        "    model = whisper.load_model(\"base\")  # También puedes usar \"small\", \"medium\" o \"large\" según tus necesidades\n",
        "\n",
        "    # Procesa el archivo\n",
        "    # Reemplaza \"ruta_del_archivo_subido.m4a\" with the actual path of your audio file\n",
        "    result = model.transcribe(\"Reu Quilagro.m4a\", language=\"es\")\n",
        "\n",
        "    # Muestra la transcripción\n",
        "    print(result[\"text\"])"
      ]
    },
    {
      "cell_type": "code",
      "execution_count": 9,
      "metadata": {
        "colab": {
          "base_uri": "https://localhost:8080/"
        },
        "id": "eclI1IWwbKmy",
        "outputId": "00795612-19cd-4eb8-bd5f-444f8296d78e"
      },
      "outputs": [
        {
          "output_type": "stream",
          "name": "stdout",
          "text": [
            "Requirement already satisfied: whisper in /usr/local/lib/python3.10/dist-packages (1.1.10)\n",
            "Requirement already satisfied: six in /usr/local/lib/python3.10/dist-packages (from whisper) (1.16.0)\n",
            "Name: whisper\n",
            "Version: 1.1.10\n",
            "Summary: Fixed size round-robin style database\n",
            "Home-page: http://graphiteapp.org/\n",
            "Author: Chris Davis\n",
            "Author-email: chrismd@gmail.com\n",
            "License: Apache Software License 2.0\n",
            "Location: /usr/local/lib/python3.10/dist-packages\n",
            "Requires: six\n",
            "Required-by: \n",
            "Error: 'whisper' is not a module or does not have 'load_model'. Please check your installation.\n"
          ]
        }
      ],
      "source": [
        "!pip install --upgrade whisper  # Ensure the latest version of Whisper is installed\n",
        "!pip show whisper             # Verify installation details\n",
        "\n",
        "import whisper\n",
        "import os # Import the 'os' module\n",
        "\n",
        "# Restart the runtime after the installation to ensure changes take effect.\n",
        "\n",
        "# Check if whisper is a module and has the load_model attribute\n",
        "if not isinstance(whisper, type(os)) or not hasattr(whisper, \"load_model\"): # if whisper does not have load_model attribute then print error message.\n",
        "    print(\"Error: 'whisper' is not a module or does not have 'load_model'. Please check your installation.\")\n",
        "else:\n",
        "    # Carga el modelo de Whisper\n",
        "    model = whisper.load_model(\"base\")  # También puedes usar \"small\", \"medium\" o \"large\" según tus necesidades\n",
        "\n",
        "    # Procesa el archivo\n",
        "    # Reemplaza \"ruta_del_archivo_subido.m4a\" with the actual path of your audio file\n",
        "    result = model.transcribe(\"ruta_del_archivo_subido.m4a\", language=\"es\")\n",
        "\n",
        "    # Muestra la transcripción\n",
        "    print(result[\"text\"])"
      ]
    },
    {
      "cell_type": "code",
      "execution_count": 10,
      "metadata": {
        "colab": {
          "base_uri": "https://localhost:8080/"
        },
        "id": "cwB4arNubZ8r",
        "outputId": "95da29f7-3a96-436c-ee60-3bdda1973c0a"
      },
      "outputs": [
        {
          "output_type": "stream",
          "name": "stdout",
          "text": [
            "Found existing installation: whisper 1.1.10\n",
            "Uninstalling whisper-1.1.10:\n",
            "  Successfully uninstalled whisper-1.1.10\n"
          ]
        }
      ],
      "source": [
        "!pip uninstall whisper -y"
      ]
    },
    {
      "cell_type": "code",
      "execution_count": 1,
      "metadata": {
        "colab": {
          "base_uri": "https://localhost:8080/"
        },
        "id": "t4wowWPWbg2C",
        "outputId": "90dae171-006d-44f7-cc1a-99d670f0fd55"
      },
      "outputs": [
        {
          "output_type": "stream",
          "name": "stdout",
          "text": [
            "Collecting git+https://github.com/openai/whisper.git\n",
            "  Cloning https://github.com/openai/whisper.git to /tmp/pip-req-build-z543sptl\n",
            "  Running command git clone --filter=blob:none --quiet https://github.com/openai/whisper.git /tmp/pip-req-build-z543sptl\n",
            "  Resolved https://github.com/openai/whisper.git to commit 173ff7dd1d9fb1c4fddea0d41d704cfefeb8908c\n",
            "  Installing build dependencies ... \u001b[?25l\u001b[?25hdone\n",
            "  Getting requirements to build wheel ... \u001b[?25l\u001b[?25hdone\n",
            "  Preparing metadata (pyproject.toml) ... \u001b[?25l\u001b[?25hdone\n",
            "Requirement already satisfied: numba in /usr/local/lib/python3.10/dist-packages (from openai-whisper==20240930) (0.60.0)\n",
            "Requirement already satisfied: numpy in /usr/local/lib/python3.10/dist-packages (from openai-whisper==20240930) (1.26.4)\n",
            "Requirement already satisfied: torch in /usr/local/lib/python3.10/dist-packages (from openai-whisper==20240930) (2.5.1+cu121)\n",
            "Requirement already satisfied: tqdm in /usr/local/lib/python3.10/dist-packages (from openai-whisper==20240930) (4.66.6)\n",
            "Requirement already satisfied: more-itertools in /usr/local/lib/python3.10/dist-packages (from openai-whisper==20240930) (10.5.0)\n",
            "Requirement already satisfied: tiktoken in /usr/local/lib/python3.10/dist-packages (from openai-whisper==20240930) (0.8.0)\n",
            "Requirement already satisfied: triton>=2.0.0 in /usr/local/lib/python3.10/dist-packages (from openai-whisper==20240930) (3.1.0)\n",
            "Requirement already satisfied: filelock in /usr/local/lib/python3.10/dist-packages (from triton>=2.0.0->openai-whisper==20240930) (3.16.1)\n",
            "Requirement already satisfied: llvmlite<0.44,>=0.43.0dev0 in /usr/local/lib/python3.10/dist-packages (from numba->openai-whisper==20240930) (0.43.0)\n",
            "Requirement already satisfied: regex>=2022.1.18 in /usr/local/lib/python3.10/dist-packages (from tiktoken->openai-whisper==20240930) (2024.9.11)\n",
            "Requirement already satisfied: requests>=2.26.0 in /usr/local/lib/python3.10/dist-packages (from tiktoken->openai-whisper==20240930) (2.32.3)\n",
            "Requirement already satisfied: typing-extensions>=4.8.0 in /usr/local/lib/python3.10/dist-packages (from torch->openai-whisper==20240930) (4.12.2)\n",
            "Requirement already satisfied: networkx in /usr/local/lib/python3.10/dist-packages (from torch->openai-whisper==20240930) (3.4.2)\n",
            "Requirement already satisfied: jinja2 in /usr/local/lib/python3.10/dist-packages (from torch->openai-whisper==20240930) (3.1.4)\n",
            "Requirement already satisfied: fsspec in /usr/local/lib/python3.10/dist-packages (from torch->openai-whisper==20240930) (2024.10.0)\n",
            "Requirement already satisfied: sympy==1.13.1 in /usr/local/lib/python3.10/dist-packages (from torch->openai-whisper==20240930) (1.13.1)\n",
            "Requirement already satisfied: mpmath<1.4,>=1.1.0 in /usr/local/lib/python3.10/dist-packages (from sympy==1.13.1->torch->openai-whisper==20240930) (1.3.0)\n",
            "Requirement already satisfied: charset-normalizer<4,>=2 in /usr/local/lib/python3.10/dist-packages (from requests>=2.26.0->tiktoken->openai-whisper==20240930) (3.4.0)\n",
            "Requirement already satisfied: idna<4,>=2.5 in /usr/local/lib/python3.10/dist-packages (from requests>=2.26.0->tiktoken->openai-whisper==20240930) (3.10)\n",
            "Requirement already satisfied: urllib3<3,>=1.21.1 in /usr/local/lib/python3.10/dist-packages (from requests>=2.26.0->tiktoken->openai-whisper==20240930) (2.2.3)\n",
            "Requirement already satisfied: certifi>=2017.4.17 in /usr/local/lib/python3.10/dist-packages (from requests>=2.26.0->tiktoken->openai-whisper==20240930) (2024.8.30)\n",
            "Requirement already satisfied: MarkupSafe>=2.0 in /usr/local/lib/python3.10/dist-packages (from jinja2->torch->openai-whisper==20240930) (3.0.2)\n",
            "Hit:1 http://security.ubuntu.com/ubuntu jammy-security InRelease\n",
            "Hit:2 http://archive.ubuntu.com/ubuntu jammy InRelease\n",
            "Hit:3 http://archive.ubuntu.com/ubuntu jammy-updates InRelease\n",
            "Hit:4 http://archive.ubuntu.com/ubuntu jammy-backports InRelease\n",
            "Hit:5 https://developer.download.nvidia.com/compute/cuda/repos/ubuntu2204/x86_64  InRelease\n",
            "Hit:6 https://ppa.launchpadcontent.net/deadsnakes/ppa/ubuntu jammy InRelease\n",
            "Hit:7 https://ppa.launchpadcontent.net/graphics-drivers/ppa/ubuntu jammy InRelease\n",
            "Hit:8 https://ppa.launchpadcontent.net/ubuntugis/ppa/ubuntu jammy InRelease\n",
            "Hit:9 https://cloud.r-project.org/bin/linux/ubuntu jammy-cran40/ InRelease\n",
            "Hit:10 https://r2u.stat.illinois.edu/ubuntu jammy InRelease\n",
            "Reading package lists... Done\n",
            "Building dependency tree... Done\n",
            "Reading state information... Done\n",
            "49 packages can be upgraded. Run 'apt list --upgradable' to see them.\n",
            "\u001b[1;33mW: \u001b[0mSkipping acquire of configured file 'main/source/Sources' as repository 'https://r2u.stat.illinois.edu/ubuntu jammy InRelease' does not seem to provide it (sources.list entry misspelt?)\u001b[0m\n",
            "Reading package lists... Done\n",
            "Building dependency tree... Done\n",
            "Reading state information... Done\n",
            "ffmpeg is already the newest version (7:4.4.2-0ubuntu0.22.04.1).\n",
            "0 upgraded, 0 newly installed, 0 to remove and 49 not upgraded.\n"
          ]
        }
      ],
      "source": [
        "!pip install git+https://github.com/openai/whisper.git\n",
        "!sudo apt update && sudo apt install ffmpeg -y"
      ]
    },
    {
      "cell_type": "code",
      "execution_count": 2,
      "metadata": {
        "colab": {
          "base_uri": "https://localhost:8080/"
        },
        "id": "CZ42SYcob7iy",
        "outputId": "cc4799d8-5154-44c1-d097-bfc63226eac8"
      },
      "outputs": [
        {
          "output_type": "stream",
          "name": "stderr",
          "text": [
            "100%|███████████████████████████████████████| 139M/139M [00:03<00:00, 43.0MiB/s]\n",
            "/usr/local/lib/python3.10/dist-packages/whisper/__init__.py:150: FutureWarning: You are using `torch.load` with `weights_only=False` (the current default value), which uses the default pickle module implicitly. It is possible to construct malicious pickle data which will execute arbitrary code during unpickling (See https://github.com/pytorch/pytorch/blob/main/SECURITY.md#untrusted-models for more details). In a future release, the default value for `weights_only` will be flipped to `True`. This limits the functions that could be executed during unpickling. Arbitrary objects will no longer be allowed to be loaded via this mode unless they are explicitly allowlisted by the user via `torch.serialization.add_safe_globals`. We recommend you start setting `weights_only=True` for any use case where you don't have full control of the loaded file. Please open an issue on GitHub for any issues related to this experimental feature.\n",
            "  checkpoint = torch.load(fp, map_location=device)\n",
            "/usr/local/lib/python3.10/dist-packages/whisper/transcribe.py:132: UserWarning: FP16 is not supported on CPU; using FP32 instead\n",
            "  warnings.warn(\"FP16 is not supported on CPU; using FP32 instead\")\n"
          ]
        },
        {
          "output_type": "stream",
          "name": "stdout",
          "text": [
            " ¿Te viene a beso? Claro, y solo un cliente. Entonces mira, así llegamos a cuartos, yo soy tu distrito, porque yo te lo voy a colocar la bandeja. Te lo voy a devolver. Y que va a que que corta lo que estás haciendo. Claro. Así que partimos, ya tengo dos lotes y tengo el tercero que es lo que más me interesa que lo estoy esperando a ver, si ya me llamó. Porque son la de 88 lo que llamó, como ver la de 17 y ya le diría. Es un poco más fácil. En calidad de la planta, de la dureza, el champorte, porque lo chino te la vestían todo el lado, porque igual le ponía a 0,8 y la narada. Entonces tú te llegando a la Ander y seguiera. Entonces, volvigina mucho de ese hecho. Claro. Te la cebolla, la guana. Mucho de ese. En el champorte lo servía. No sé, la guaya de la mala, aunque en el con el sol de la guaya, de la venaer, la menga gada. No, tenía porco. El desgaste del material. Y todos los buenos, yo he llegado. Todo lo bueno. Todo lo bueno. Yo te estoy hablando. 6, 7 expresas. Todos los salaste en la guaya. Así que yo decidí desmarcarme, de la poja vena. Ahora esas 5, 6 empresas son los sospechosos habituales, porque, en el cual, en el cual, en el cual, en la guaya, después uno va a comprarle su guaya. Es muy difícil importar uno directamente. O sea, lo que voy, es cada vez más difícil saltarse a este intermedial. Entonces, te lo que está haciendo es producir lo que almente más encima el herramienta o insumos. Es que eso es, por supuesto, sobre todo, sobre todo, sobre todo, todo, todo, a ver, a la malieta, por el... Ahora, soy el autor, por el fieto de humana, es pronto. Porque nosotros en partenía, el reventado por lo mismo, porque soy el autor, lo insumo, porque viene de la afuera. Aunque no hay que seguir levantando su autor, es bien más, porque cotizaba un producto que está a 17, que tiene una solución por esta vez. Ver sus productos, si mira que hay una afuera que le cuesta no, esta rupa, está rupa. Claro, totalmente, totalmente. Entonces, cuando bajan dólares, empieza a ser caras. Claro. Entonces, ahí, como lleva a Jupo Valdez, es que oye el guay, como ya conoce el producto, ya está posicionado. Y se pude gastar un poco más o casi un poco al dedo, pero ya... Pero lo viejo en el campo le van a pedir la gaya mejor calidad. Entonces, eso es un proceso, la validación es siempre se demora. Bonísimo. Pero bien, pero es que salida para que tú me entiendas. Bonísimo. ¿Qué es el agua? Y tú estáis con tu porfolio, ¿eh? Ya, estoy con el porfolio, un poco levantando capital para empresas que necesiten escalar, ¿sabes? Y obviamente, hacer la parte del porca folio y que sean parte de esta nueva caída en el suministro. Ya. Esta nueva caída en el suministro tiene que ser realmente completa, plata limpia, que eso... ¿Y tú qué ganas de ir? Yo gano comisiones, porque... Porque estrenar capital yo represento inversionista, que son especialistas en agro, ¿sierto? Pero lo bueno, ya están muy grandes, ¿sierto? Y se emputan a necesitar un negocio, con negocios complementarios a nuestras posiciones en agro. ¿Ya? Pero eso, bueno, no son... Tienes que regirse por cierta caída en evalores. No pueden ser coles flechas. No pueden ser los lombardos y borichos. Que lo que nos... Pero sí puede ser son del baño. Porque este hueón es boliviano y es responsable, le pagan en los trabajadores y el buen tiene otra estructura valorica. Pues se toda la caída en el suministro se basa en confianza en comercialización justa. Entonces, ¿qué estamos resolviendo nosotros? El dolor número uno del productor, la rentabilidad. Porque siempre se los cagan. Para que, siempre, por la historia completa, los productores son los que sufren, porque los intermediarios, porque llegan a vender cuando lo bañedor, se lo pide. Tensad, ¿no? Entonces, ¿qué pasó? Mira, hay otra rola. Yo, yo, yo, yo, ¿qué vas a abortar? Lo que vas aquí y la diguta, piensa, en un solo negocio de la rola. Y la rola es tan diverso. Sí. Mira, tení desde insumo logística, maillaria, asesoría, proyecto, semilla, investigación y desarrollo, consumo final. Claro. Hay un entústria. Paquini y procesamiento, ¿qué hay donde más te conecto? A que me caché. Entonces, claro, yo creo que también fueron para tu nueva costura y de una forma más tened una cosa. Porque lo aguanta con una estructura negocio, aunque falle, porque yo no puedo entender que un buen agaritismo, y un buen agaritismo, y no sé, ¿qué está pasando en tu plata? Sí, pues. Es que también es la mentalidad y la autoestima muchas veces, y si a nosotros nos pasa algo, yo me duqué en Chile y me fui a tuére a Estados Unidos, pero en Estados Unidos tuve que cambiarme el chí porque venía un hueón ya cagado. Ya venía nuevos que nos pude la huea, no, no, no. Y hacer cosas complementarios o distintas, ¿caché? Claro. Vaya, vaya. Aquí la visión, no todos tienen la visión. ¿Cato se pone tuvar y empezar? ¿Casear esa huea complementar esa? Sí. No sé, estoy metando. Yo compré, contise una huea bien una huea aquí, ¿no hay que ver? Voy a ver una aceptada, pero una huea de contena para crear la, no es empresa, para crear una huea distista, una huea de aquí, para estar. Que es la primera vez. Ah, ¿por qué está acá? Sí. Con la infracción, los contena se fueron a la chucha. Sí. Una huea de entonces, ¿cómo se se despandó? Sí. La vez de 7 millones. Vaya, encima subieron. No va a ser. ¿Caché? Entonces, la huea y, y realmente he hecho una huea en que la sierra. Y 6 millones, todo la huea, chica, mal hecha, 2 millones, ocho años. Este huea no puede ser tan cala, ¿caché? No. ¿Por qué te lo he hecho? Entonces, me fue una huea de remate, compré la plaga con la altra, ¿vale? Entonces, ¿cuánto cuándo cuándo? De un macho, ya con los contena. No. Te saldas atrás, problema. Si. ¡Ah, ahí! ¿Lo Times no te recれた en el cuello, por favor? Quiero cervejar. No, ¡ah! Quiero enterrar. Bienvenido. y como se llama permiso construcción. Ah, claro porque no está metido en el suelo, que el cambio de uso, que el cambio de destino, porque la guarde frotante y el móvil. Es una bella y una bella y una baixa. Es un baixa. Son bares complementarios, porque al final todo lo que almacenar. Es que eso no hay talento. Y mis de magia no te va a agarrar. Y que a ver, ¿cómo está todo lo que lo salví? Yo compro la magia y la bachar planta. Lo ocupo dos, yo en vez en ahí, que es suficiente. La bachar. Claro. A ti. No, no está bien. Es el siguiente chucho. Así que, pero en esa que yo creo que es el principal que ha dado lo bueno, es cacha aquí, que no es solamente una huea. Yo voy mucho a rica el tema de la paleta producción. Tengo huea en ella funcionando, te difusión en unas comunidades. Y también estamos con ahora, de hecho, estoy bien justo factorando, carlosico aquí gran. Y tengo, pero también hay un tema ahí, como los paquinozo en el feo, para no decir que es magia, pero el negocio de la vez te sumo lo maneja los accesor. Tás, ¿vamos a tener que estar a conversar a ti con el asesor de bastilos mozos? Sí, bueno, no, así es el labor. No, no hay el valle de asapa. Mira, yo decía a rica, para aprender esta huea, bien profundamente, hecho todo lo que reciclaje es como te da cuenta de la realidad. Entonces, es una forma de investigar y pudo de de de narica y el valle de asapa. No hay el tercer centro de huea, o son coqueros, son narcos o están corruptos. No hay mucho con chavada. Y mucha informalidad. Entonces, si no te apalean, tal un credo, un huea, ¿no? Concha, son más del banco de cianó, pero esto es un pie cuando yo siento... No hay eso por los 800 pasos, y yo ahí puedan variándoles 800 pasos. Pero sí, hay algunos que no tienen el inceso de teatro. De docer. Eso para mí, es un asul que se llama, porque básicamente... Y con la nueva norma de la transferencia, ¿vamos? Sí, vamos a ser anosol. Claro, claro. Pero quiero focalizarme en algo específico que es que la caena suministra esté bien, que nosotros podamos proteger al productor con buenos precios. ¿Qué es algo más súper difícil? ¿Por qué? Eso va a tirar así, un full confianza. Porque vimos la oportunidad de dejar obsoleto a los valledos. ¿A quién me refiero con esto? No, sí, sí, ese tema que yo hace años lo venía en traja, ¿no? ¿Por qué? ¿Cómo tú te puedes diferenciar en este mundo, y tanto? ¿Cuál es el productor? ¿Tienes que ser capaz de pedir tu producto con una trazabilidad? ¿Y si te hubiera ojado? Mira, aquí hay alguno ativo interesante de cosas que yo he visto, por ejemplo. Aquí hay un portugal de diciembre al UIFRE, y el hijo que estoy generando el huevo, se se pone muy muy, hicieron un especie de hubo diga, bien muy bonita con el paguito, y ellos abastecen, se orientaron a abastecer solamente ramada, locales, ni maquino, como un chés 4, como que. Para que se vuelva, no vaya a lo diario, ¿como? No, no, no, no, no, no, no, no, no, no. ¿En qué sué? Me gaché. Eso es, eso es. Entonces hoy día, por ejemplo, tenemos un camión de pimentones, de 4200 pimentones, cajas de pimentones, ¿sierto? Vinendo el sol del valle, ¿sierto? A lo vall médio. Y yo voy a estar muy aceptable, muy aceptable. En mi escancia, precio mayorista, sean palos, precio de talles, 200 palos, donde llegué a lo valledor, y yo, bueno, el camión, pues, haciendo todo el recabido, llámelo valledor, y no, este guante tiene que llegar, y donde me pongo, y la huea, y este guayan, más aceptan, más aceptan, igual, ya había pedido, y ha venido como comprado. Por sí, sí, sí, sí, sí. Claro, porque el guayan le dice, ya mira, con el flea y toda la huea, a este precio, te sirve, y este guayan acá le dice, sí, dale, manda. Pero el guán del norte, fijo un precio mínimo, ¿sierto? Para el guán asegurar la huea, pero ahí, cada guán. Entonces, de ese inventario, esas cuatro militanas cajas que diguen a lo valledor, van a llegar, mandársela directamente un supermercado o una minera, o por qué chuches tenen Santiago, por qué no repartir la guay, ahí, en el norte. Se te saltaste un montón de puntos de acopio, o packing, ¿sierto? No, está pagando, está pagando. ¿Cachadé? Me entendí, entonces, básicamente faltan los que hay aquí y se vuelva al martero. Sí, bueno, la martero. Y la calidad de comida de los guan es que están en la minera es crosa. Pues nosotros primordiales. Porque si no hay que ver la chaseiría con que se produce el martero. Correcto. Te he concesión, puso, puso, y me ha girado. Sí, no, sea. Porque poté, hay una cosa que no es... El sal no haya como chuches, por qué no lo hablo. Y está la que gaga, hay una crisis sanitaria y día, la mosca, todo el tiempo. Me dio el esquino en los 50 y 4, y el esquino me entró 18, 14, 7, y 12, donde está mi amigo en Nantes. Me agilé, yo fui a 12 semanas a tuvella. Y me dejé la camioneta. Está malo. El sal no hacía ni nada. No sé cuánto paño. Contrando, debo vivir. Me queme todo con la soja que dejan en el puerto, lo guan en el medio de la vida. Y pues no pasa lo guay. Y viste, eso es que viene que está parado con unos sequitos de guan. Eso lo venden a dos, chelú, con saco guan y saco hecha. Y todo lo guay le hecha, y todo lo guay. Y ese guan no paga, lo que uno le entiende, puta, hay tan fácil controlar lo que no se conchólo. Es que no tiene el diságnio de mi plata. El gobierno regional sí tiene plata, pero guan es una. Está, está. Entonces, el tru de la la colulso estaba allí allá. La puta madre. Entonces, al final lo única forma de hacer una mejor propuesta con todo este ruido es con plata privas pocas. Te voy a honestar que digan, ¿sabes que queremos asegurar nuestra primera milla que es un concepto súper importante que estaba aliado con los gringos, toda la buena? La primera milla es proteger a el productor. ¿Cómo chucha proteger el productor? Porque tenía el productor filete y tu caena es suminista esta filete. Tenies otra sabilía. Tenies otra sabilía para llegar a mejor en mercado, no lo bueno te dice. ¿Tienes metales pesados, tienes pesticidas? ¿Y ahora gane y que la vean? ¿Cómo va? Chucha. Sí, aquí está los seis. Y pues llegan a mercado filete. Entonces, ¿qué estamos haciendo hoy día? Estamos, bueno, aparte que nos identificamos en el sensor grupo de cuario, esta famosa asunidad de producción de gropecuarias. Y el digo es un resunal. En Arica, a 1.267, una de producción de gropecuaria. Ya esto caracteriza por el INE que es instituto nacional de esta edad. Y el ECR es Cobra Gwen, si nosotros logramos, soñemos. Agarramos la 1.200, 1.200 de producción de gropecuaria. A cada viejo, los ponemos en un programa. ¿Una revolta? ¿Y por qué el ejeitarica? Porque no se la mentarica, sino que toda la mano se una norte. El desierto en sí tiene muchas prestaciones, ¿sierto? El bajo costo de producción, almacenaje, procesamiento, ¿sierto? El clima que muy estable, la temperatura bajo tierra, que muy estable. ¿Has hecho un estudio de la yanca que son los japoneses que vinieron a hacer todo este estudio hace como 10 años? 20 años, ¿no? No, no, pero ¿qué lo hago? Tenía un terreno en la razón que también no habrá dado ahí. Ah, bueno, centro logístico. Centro logístico. Centro logístico. No hay una más fácil. ¿Más fácil? No existe. No existe. No existe. Ni ningún lugar en el planeta comática. Ah, si dimos. Es que claro, ¿por qué voy? O sea, ¿tú cómo puede entender que puedes cosecharlo 12 meses del año, todos los días? No, claro. ¿Y por qué puedes cosecharlo 12 meses del año? Porque se genera una mamá muy simpatida. Un microquimba. Y aparte de eso, aparte del microquimba, aparte de todo lo que hallo, no es un bravo que es solo como la callanfa. Y la agua también. Pero tiene una web, es súper importante lo que se llama la plitud de amiga y el photo verió que el número de horas luz vía, donde está el problema de la edica que ha ido donde yo ataco, que este photo verió que durante 50 años fue constante, huyen en algunas alteraciones por cambio climático. ¿Y dónde se ha hecho uso en esos problemas en el color de tomate? Por ejemplo, pero este agua es un animal. Tú tienes que hacer una sola cosa. Tú encha por el baía zapa tienes. Sí, gente. ¿Qué ya lo ha estado? Por eso. ¿Payo, ¿no? ¿Tú ni he hecho? ¿Todo está? Que es tu pompo, que le trabajan a cuartera. No, sino sobre todo. No, más que todo eso. Ahora, bueno, esto nació porque una de las empresas que impuera el portafolio y una empresa de sensualización robótica que actuación a la tensión, en el entro, en el ambiente controlado, que una empresa local alriqueña y que se mancé esta tecnología y que estaba en 60, que le había tu del rígula y la sensualización con un mapa de calor dentro del invernador donde los viejos saben en cada esquina y cada cuadrante que está pasando una lectura, no un sensual al medio y supongamos que toda la agua esté igual. Si no, que es una hueca que un sensual es que va recorriendo a la entro. ¿Bueno, si genere un mapa de calor y lo sabéis que por qué? Todo el tema que va a ser los buenas de api, que son los primeros buenas de agrona, ¿que hicieron la inteligencia artificial para la palabra? No. ¿Tú me matás a ellos? No, me voy a ir a lo loco. Bueno, bueno. ¿Por qué hice? No me gustó con lo bueno, los conocí en una fe de que fui la lleva a saber. Yo voy a ir a ese. Y en esa fe de artigrese, lo bueno, nosotros estamos empezando a hablar la palabra. Y hoy es interesante cómo la... y yo le hice los parámetros, bueno, nosotros aquí no me metimos a moedito. Claro, la configuración. La configuración. Yo te salvo. Bueno. Bueno, por la fe de que me mandas la palabra. ¿Inteligüivo? Y es como un demo gratis. Luego, eso, de hecho, en la misma línea, los buenas de la tarjeta, como 30 kilos. ¿Y se lo he estado viendo? Muy bien. Hay un solo de ahí que lo bueno, no tienen que pagar, lo bueno de que se cambió del 3, 4 jetos a agua, tienen que pagar el modo y después los buenas se pasaron de hilo, lo mantaban de paya. Entonces, tú te configuraba y de ahí hago. Entonces, ahora me pese a dar algo. Una hua transición de la hua se chica una hua y ahí. No hay permiso y no va. No se va. Y eso ahora está haciendo ese tablo. Pero ¿Dónde va la conversación? El poder al producto. Eso. Y si, ¿cuál es el costo de esta hua? 160 lúgamos maivalmente y tú voy a ser capaz de visionar dieta. Entonces, esta caja para el... Porque así que pica el reguto, esta caja, que tiene la enteniencia artificial, tú, cuando nunca he tenido esta enteniencia y ese recerto, el primer mea hora de emporar, como tú queráis, le metí los datos que tú queréis y éste es negocio de las químigas. Porque por ejemplo, la caja es capaz de invierta a cualquier información y te dice el lunes a las siete de la tarde, vas a tirar el siguiente fugición, porque tienes una posibilidad dinóculo de él y eso. Entonces, el producto que metiste y, por ejemplo, dice a la sac moxán. Si el cliente dice lo, ¿vosestró? Pero ¿vamos que te motela? De muere la información, ¿páis tal qué vas a ir? Entonces, yo quiero que dice, puse bien producto en esta caja. Entonces, ¿qué lo pide origina a eso? Una. Que tení un monedario bastante vivo. Dos. Tú y yo, y fraque que llevó otra persona, podemos nosotros relacionar estos datos. Te deligese te dice a te lo sentese, ¿vos? Sí, sí, ¿vos? No, ahora está la caja, la guá. Entonces, ¿qué es la acción? Sí, pues, totalmente. Ahora, ¿qué es ese monitoreo de tanta hectárea? Me imagino que es acampovio. ¿Cierto? ¿Y tiene uno también en verdad? Mira, eso no gustaría ver porque está dentro de un venario. Ah, sí, está dentro de un venario. Sí, está dentro de un andato a la desplazón. Y yo lo conocí a peo. Mira, interesante, porque nosotros logramos configurar el disco de todo el estudio. Esta unidad de producción de recopo, es que se encontrabanse a esto ya en la región. Yo le digo, ¿cómo es el sitio? Sobuncamos también 200 unidades de producción de recopo, solamente en el disco de Perino Cota. Suimos los viejos programas donde le generemos por la tecnología y el acompañamiento. No solo 3 de los que no teníamos ni de baile de chaca y horny. No, sí, pues, mira. Mientras 200. ¿Se ha ido a echar ahora, bolé? Oye, se ha ido a una inversión agollózica, que se ha ido a la izquierda. Y que también se portugues a hacer veas que se echaran dos mil y dos siete estés de más producción. Y por el vale marzo que está como a 70 que el otro quiere ser baile de chaca. Y un poquito más su que está como una instancia, vamos a ver. Sí, se ve saliendo a la rica, pero el sur se ve baile de chaca. Y un poquito más a su que... Que son los tres bailes que están perdiquiles. Claro. Hay un guay que está como la dictacia, no tan deco de los ricos, pero no sé, en los morros. No, muy, por ejemplo, no estás así. Mira. A ver, no me dobra. También hay un maí interesante. Está ahí. Porque yo como he ido a saber a amigo que tienen que chudoro o soy que vix más preceptado. Sí, sí, sí. Así que entiendo, pero... Ya, pero mira. Es una capacidad impresionante. Más que la chucha, a mí, nosotros, si suponmos nosotros con este, debusimos, Future Food. Y si la nueva calle no suminista y la guay, y que le eché estamos trabajando con la NASA, ya porque la NASA viene a probar guay con nosotros a nivel del mar, a nivel medio y a nivel altitud, en socayre tenemos un narave a 4000 y tanto, produciendo las chugas, que se puede ver. Sí, esto. De chugas ponen, ¿g? Pues nosotros estudiamos toda la guay, gimo, ya. Están 1200 unidades de producción agroecuaria, si nosotros lo ayudamos a generar 20.000 dólares. A cada una, mensual, ¿sierto? Nosotros capturamos del 40% que son 800 dólares, ¿sierto? Y que es joven a tarfeliz, porque son 20.000 dólares que no tenías. ¿Sierto? Mensoalmente son 9 valores. Sí, que es eso. Son a la menstruarica. Y estamos hablando con el 220.000 de producción agroecuaria. Si tomamos la micro sonanorte completa, son alrededor de 34 valores verdes mensuales. Si tomáis todos Chile, todos Chile, porque el Chile, la rocanía, son 16.000 unidades de producción agroecuaria. Es de un público más azul, son 36.000. Pero no hay indagado lo que es la base de la semana, que es la zona central, porque tan que el público, porque triplos, que no es ninguno para todos, y ahí tienen otro problema, que hoy ya también, los chinos que yo le tienen ahora no hay cosas en el mundo. Oye, tú no sé, llegaste la semana 4 y cagaste, ¿véis? ¿Cuál que no? Es el mismo ferro de la hora de la hora. Es exacta, ¿no? No, no, no, no, no, no, ¿hale 4 dólares que le da de 1 dólares? Claro, está sin cagar. Sí, ¿cómo? El nuevo. Peremos visto, realmente nosotros como que hicimos focalizando el damato sonanortes específicamente, ¿por qué? Porque puede ser como le caen a su ministro apoyo a cuando las caen a su ministro en el sur se rompe. ¿Cierto? Pero no solamente para Chile, sino que para Estados Unidos. ¿Era? ¿Cara sabe? Porque imagínate, bueno, cultivan el desierto, subongamos tú, no se, con un producto X, que tenía un ingrediente X y bueno, y siempre te quiera que haga con la ayuda o va, tenéis que estar contestación, pero si tenía una operación en un lugar estable, no lo comprenda. ¿Certo? ¿Y si es tan todo lo bueno? Sí, está más. Sí, es. Es todo igual. Es una revolución silenciosa que es para los que están prendidos, ¿no? ¿Certo? Y bueno, en eso hemos avanzado, ¿sierto? Nosotros identificar esta unidad de producción de que recuerda que pueden existir, y que son muchas comunidades que están en control de esta unidad de producción de que recuerda, no metimos en la relación de las comunidades locales, ¿sierto? Por ejemplo, Pilo Pobo, ¿soto? Y el Básmue, ¿sierto? También ahí en San Pedro, que está rodeando una zona turística y la relación con la minera. Nosotros fuimos a la minera como hacíamos ciertas pellitas de ingeniería, lo bueno, sí, en interés a uno comprarla a las comunidades más en cima, es que hay más tranquilos. Entonces, quisimos nosotros y dibujamos un modelo económico. Para la unidad de producto, una gran peculiaridad para que los viejos de las comunidades fueron buen negocios para ellos. ¿Qué significa? ¿Qué tenéis que curtir a alguien al mercado a llegar, ¿sierto? ¿Y con qué combina ese cultivo? Entonces, llegamos un modelo, y otra vez, aquí… aquí, con un kimón abierto, llegamos un modelo donde son, una unidad de producción agropecuaria de 3,9es de 360 metros cuadrados haciendo el echo web de lopónica, que una… era una operación líquida por decirlo así, porque la hueva se sale… Va a llegar un momento dónde deba salir mensual y groso mensual. Pero combina ahí esa unidad de producción agropecuaria con otro unidad de producción agropecuaria, también de 3,360 metros cuadrados, cada una, que en total son 80 metros cuadrados, con una hueama filete como arándano. O hasta hacer eso. Pero no nos queremos ir al ser eso porque el bor y la huea hay igual trabajando en filto balboro. Pero si ha sido una operación, con una huea líquida, con una huea líquida que corta y guana al año y medio, el modelo financiero se paga si mismo. Entonces tú linda la lista, guay, ya ven mano, a los viejos de la comunidad que le vendan a ese bor, y que le vendan a Paya o así, y las comunidades guantes, ama, recupera la economía local, tiene un impacto social, protegía las comunidades, y tienen el salten por el mango cuando se relaciona con estos miros. Quisimos también, no me timo en pica, no vaya en pica, tú lo desconoce. Un valle no me no ha borcierto, la pudo, decimos, fue un evento y la guá vino a la NASA, a Canchón, a la Universidad de Aunado, donde ha salido el desierto, la papel hacia Paya Chile, y de toda esa guá, estamos trabajando con hidroponía de Chile, que los debes conocer, que están ahí mismo, con el Jorge Carina, conocimos todos los guanes, cachamos toda la red. Estamos, ¿quiénes son? ¿quiénes son buenos? Entonces empezamos nosotros a trabajar con los limoneros de pica, que dice, no, nosotros tenemos un margen, un bruto, del 40% y le vendemos a hacer consult, hace 20 años. ¿Y por qué me quería exportar en Paya? No entiendo si está como, ¿no? Y ahí empieza. No, que bueno, la del nacional, nos deja, nos cambia el precio, voy a del desierto, la dirección regional de agua nos tiene guan para cagar, empezamos a ver todos los problemas, porque chuchan, no voy a explotarlo en los limoneros de pica, con la Universidad de Sondor, y que los guanes sagaron, ¿tú el desierto que tienen ayer? En un montón de problemas, que al final son problemas colítimos, que se ataba de bols. Que las cooperativas, guan llegan, se van a ser, aquí, bueno acá, pero bueno, es cada vez. Hay mismos de tus pasas ahí, aquí es un fenómeno, parece el rey, es una de las zuras, estas comunidades dijeran, que son de la religión boliviano, entonces tú tenías esta lesión, un negocio y con tu pozo, con todo tu huea, y bien, boliviano compres pedo de la, y lo menos se está a una casa, y en el día de su casa se suposo, y ya lo aguaste van. Y ya no aguaste vas a pasar, porque tenía que tener una olvallamiento. Entonces tú hay y te te te pierdes, te vienes en pago y en la obo. Que buena ver. Esas son las cosas que obligan, el que vamos a hacer. Claro, ¿qué? Porque este guan... Cuando querías formalizarlo, como lo formalizáis, como ayudáis. Como ayudáis. Y como regate y la guay y no. Y aquí regate, pende los activos. Bueno, te quieres formalizarlo. Te hay regando, bueno, se hectárea guión con la capacidad bauna. Claro, ¿qué? Cachar, entonces ahí, de alguna forma vimos que mucha pega va a ser pa ayudar a los pies, ¿sierto? Entonces, de alguna forma estamos viendo cómo, de alguna forma, estantarizamos el modelo. Cachar es un poco más, ya va a ser replicable en el norte, porque ya tenemos el desierto aquí en sí, ¿sierto? En el norte y eventualmente exportar el modelo de desierto a Estados Unidos, o a Japón, que los japoneses también, y esperan de dengo esta comida. Investigando, investigando, tenemos unos viejos guán y copiaboz que controla en los llanos, que es un territorio plano, o donde está la... la reya de la Virgen. Está la reya de la Virgen que queda al sur de Valle Inglesa, ¿no? ¿No está por tu viejo y toda esa guay? Hay una planicia y de ojigantes que serán unos 40 kilómetros por 30 kilómetros. ¿no? Y los viejos controlas igual, que son de la cama de chino de construcción, son viejos, buenasondas, no son corrus, entonces estamos conversando con ellos. Y estos viejos miran, lo interesa, no vender parcelas de agrado, sino que vender parcelas positivas. ¿Y ¿sabes qué más? Coge del modelo peruano. Yo no sé, tengo de lo peruano. Pues, ¿reestille? Fondo, marasudo, una hue así. Lo bueno, te tira en un paño gigante, arándanos, al aire, el híbrese o esto. Y duro de la casa de convertir en inversionista. Si no se le me da una huea, y paga la mitad ahora, y no se lo hace con lo animar así. Y la otra mitad lo va a ver con tu nombre del exportación. Y queremos ese modelo. Ya, yo la garre el modelo, esto dice, ya, pues vamos y las este momento. Tu bueno, bienven y me presentan a la sanitaria. A la sanitaria, qué chucha yo tengo que ir ahora a copiar pongo, y nos montamos con la sanitaria en el tendía. Bueno, me presentan la sanitaria y la sanitaria, agua de la artiplana, nueva tacama, son los mismos hueanes, aguas nuevas, controlan el agua de alica, tarapacán, y... tacama, los lagos, los ríos y magellanes. La no. Dojo salo. Bien, ¿y usted? ¿Tago preparado esos videos? ¿Vas a estar ahí? Ya, listo. Ok, ¿quién harás este o usted y van a mierda la camineta? Ah, bueno, esto se preparará muy bien, vamos a ver aquí el payel tiró. Ya. No, ahora no van ahora, ahora, nada, listo. Gracias, cuise. ¿En caso o si? Bueno, me gusta. No, ponen el caja, las poniachos, abril la... ¿Tacueltos? La cabina. ¿Y el chay ahí? Las siete bandejas de... Tato moja. Pero... ¿No es solo? Ogan, o cartón, no sé. Usted es el recente del gesto, ¿no? Hay el recono de los buenos cartoncidos. Para que no se base, o doble. Y por el que que logra ponga ahí, porque la va a agarrar bien esto, está muy gran. La derechera. Sí. Entonces, ahí la decía, en Franklin, y que se va yo, como es salvo pizque. ¿Ele tiene la... ¿Cómo se llama? La ubicación. Y este eléforo. ¿Ya? ¿El corto? Sí, bien, ¿qué? Y bueno, y esto, bueno, es curtirlo en el agua. Entonces, los juntos, estos viejos, después. Por ellos, porozco, soy amigo Jobalabero. Otra con un rezo de la vara que esté hablando. Entonces, los buenos me dicen, pues van en Atacama, nosotros invertimos en una desalimisadora, y yo soy un buen acargo en la web, y fue el general de la web. Y no sé, pues generamos un metro muy copo por eso. Por decirlo así. Puede entrar un número. ¿Ya? Pero nos están ocupando, puta, no sé, un pecho. Sí. Entonces, los japoneses, nos están huyando de que cómo ocupamos, cómo obtenemos el retorno de la inversión que hicieron lo bueno de ahí. Entonces, nos queremos convertir en alguien con esto ahí. Y yo, esto, bueno, me hicieron modelo peruano, y después, me dicen, queremos ser productores. Y me dici, bueno, un modelo. Pero, ¿qué es? Creo un modelo que haces. Los pitchafiars, al gigantes generan aquí en su rafomo. Bueno, encantó la web. Con este modelo híbrido, que es una web líquida con una web en líquida, y bueno, ya perfecto. Inversión inicial, 600 mil dólares. ¿Ya ven mano? Ya, y esto va, obviamente, está súper cara. En el que se ve, y todo eso va, la cotizamos como a 54 bar. Un invernadero. Bueno, son tres invernadero, 300 mil de sensores. Son invernadeles, el digesto, hasta... Sí, y también, como un 30% encima, de ciertas cosas, que va a dejar... Que vayan a ver, que vayan a ver, que se ve, todo se está muy tan bien. Con ya es mano, es fascinado, no me voy a dar. No, ¿que quiero? Bueno, pero, hay mercado, estamos trabajando con plata limpia. Queremos ayudar a los productores, queremos protegerlo. Ya, y esa voy a solamente esa misión. ¿Cuál es la misión de esa conversación? Porque... Usted, primero, contarle las solicaciones, la pega aquí, está culado, lo he pegas hecho. ¿Te voy a ver? Porque, ya no, ya lo ves, te va, te va, lo he hecho, bueno, lo he hecho, bueno, bueno, bueno, les quiero, tiene que ir, como te dice, te digas que pearte y, vas a ir, seguís por, sí, sí, uno tiene que ser fuerte, una multa, y también va escuchando el mercado, y conociendo más, y muchas veces, lo que tuvo que pensar que estar en los libros, ni cargando, se aplica en la realidad, te digan de cargas mucho, de hecho, mucho agrono, mascarga, y, tú en los libros son, cuando, ¿Dóline a algo? Lo llevas a el campo y cada. Lo llevas a que, hay 2 líneas de oro, y 2 líneas de eso, como hay 2 líneas de mango, y 2 líneas de jugador en el fútbol, para que todos tendrán. Una idea, el jugador que investiga, que, normalmente, tiene un say, solo, porque igual, solo hay agua, la, la, la agua digra, como funciona, esto va a ser lo igual, igual que se, se, se, se, se, se, se, se, se, se, se, se, le va a tener Colonel, porque es un algo peridial, o se va a dormir a mitä a nada obv pobre, esto es claro, esa son los 12 líneas, tiene que decir, tienes que decir un encondicie jifo, yo tengo asesores aquí, de MDR, y tengo asesores comerciales, con el celo. Claro, claro. Quiero ver un horchalómetro, yo lo he cacho mucho de computación, pero para mí existen dos formas de hacer negocio, sobre todo en chí, una, ser el rey de la corina como te gustaba y ser el caorón en el culo, caché, o sea, que el muro es como más de lo que te lo he dicho. Y hoy te empieza a llevar el carro, y con chata, uno muro huele, man de pesca, pero que hace lo que tú querías. Y está la otra viene, que tú con trae hueones que hagan bien supera. Claro. Y los trae bien y esto es una cultura. No, y un muro huele, porque déjaro, ¿qué hace? El muro agresar. Entonces, ¿cómo te tú? En esa línea me parejé, pero yo guardaba las progresiones, pesas chicas, ¿cómo que un muro que trabajara el sol, que se manejara en el agro, que trabajaba con lo asesor y que vieron las productos que entendía cuando lo fue un caracurico. Me ve online la verdad, ¿eh? Me díaz, en el modo, tenemos solo donde hacemos la cotización, lo sociamos con uno, porque eso, entonces, ¿qué el muro? ¿qué el muro? Suve la. Sí, por favor. Entonces, tengo un problema con páridos, ¿lo está? Con esta de ahí, ¿cómo está ahí? ¡Listo! Gracias. Perfecto. Sí, como enísimo. Y los asesoros no ocurre eso, y es muy fuerte. Entonces, lo importante, que en el caso de ahora no identificar Juan, los dos estilos son vaderos, ojo, son decisiones de vida, pero hay que identificar porque los dos no se pueden mezclar. Claro, claro. Y ahí hubo una, ¿por qué va a mi conversación ahí y te seguí un poco al constacto? Porque una de las cosas que hay que definir en el momento, hoy de nuevo una licuptura es, o es comerciante de lluvola o es productora en el momento, porque no es complicado. ¿Por qué es complicado? Porque hacer las dolidas significa que a parte de producir va a tener que cargarse de una logística y de un tema, una estrategia, a veces, que el distinta de hace 20 años a chapa. Claro. Y la vida son distintas. Entonces, yo creo que hay que... Pero esa integración también es super atractiva, porque en la barata hay costos, tenemos mayor magia en el deje de días con buenas que te cortan la cola. Lo mismo que está haciendo tan buen perigüida de sol del valle. El Juan empezó, con dos hectáreas, una comercializadora que factura Juan filére, pero Juan le compraron barrio. No se lo solo lo poquitito, Juan salta de estos huevos en el carchán y el Juan empezó para comercializar buenos productos que tu producto debería estar en la barrio. Entonces, este buen diseñé, yo con lo insumo y toda la barrio, yo me gustaría empezar a producir una plantinera. Y después, bueno, ahí no van las producciones de la plantinera. Pero, ¿es ahí? ¿Y qué? ¿Usted no hace número? Que yo, pero no hay uno, cuantante. Que también forma parte de la juro de la gente, como cuando hace. Porque no es caro, no es, perdón, no es claro, es manifestar y negocio. Porque en China, una competencia, el precio que es muy, como dije, era yo con prometeora con la calidad de lo que tú está yo, gracias. Y lo que no se dimensiona, que es lo que tú precisas, aparte de ser un negocio, un producto, es una forma de vida del Juan que ha recibido la planta. ¿Claro? Porque es el Juan que se encuentra. Es el Juan, como en esa huea, educa sus hijos a esa huea. Vive en esa huea. No se dimensiona, que no es venderme la planta, no es lo mismo que antes de estar allá. Al vinez, claro. El poquitano, algo vivo. Entonces, en ese lugar, algo vivo, ocurre en cosas. Entonces, de partida, la forma en que tú inventar esa planta, si yo me he dado cuenta, ahí está, ahí lo va a trasladar. Primero, a chiquimos el cobo. No, tiene molestas, bueno, bueno, bueno, te hormonimos y nos saqueamos todo. Y se hace, más de lo que tú crees. Porque el China es una, es una comedia de charquí 500 hueares y tiene que producir 50 bienes plantas, porque si no lo dejas todo el guanaje, que le deje. El trae una huea corto y el prejuigado es el producto. Entonces, ¿dónde está la realidad del sistema que tú tenéis que decir los momentos de yo, ya me di cuenta, aserrado, que tú den el peso y al final de la planta, no lo pone esto? Lo pone tú, que eres un rompe. Le traspasas la decisión. Quiere ser una planta económica, eso, pero tiene esto. Quiere ser una manera de traer. Tiene esto, pero el curo chico, pero quiere una planta grante con el visión, pero no te voy a hacer, pero mira, más en esta producción una planta más resistente, una planta, una planta que va a tener una charcerría orgálica y cuarto, por último, tenía un teléfono donde me da el llamario, te voy a poder hacer todo. Y la calidad del portégio, que también es el gran secreto. La calidad es portigente. ¿Cómo ha sido el portégio? Es muy importante. Sí. El guan, ¿qué ha sido el portégio? ¿Cómo lo total? ¿Ase dependía de negocios, un vivo-culeo que entre con la olla? Y el más importante del campo. Entonces, esa sola de allá. Y en especial, en esa sola podéis, pues tú y yo como un grésio, yo un día me fui, tome con la feira, me fui y ahí, ahí me beso toda la comunidad y ya, una niña que volvió a la consumarío y venía llegando las plantas. Estaban plantando un sector y la pata se venía con la planta, la planta venía enferma. Entonces, lo había que hacer, vamos acá, no sé, lo he tomado a la derecha, si se millón, el va a ir teniendo la derecha. Y el eje es mucho más. Te probamos por lo, no lo hará en que esta. Yo voy a tomar, no tengo algún peso, pero necesito hacer un desarrollo completo de lo que yo hago. Pero tú, más ademas que hacer en el caso, 6 por ciento, va a tener que estar conectado conmigo, hacha de una video y avar, un a foto, un video, descolchón, prácticamente de hierro que vamos a hacer. Y vamos a hacer esta parte del trabajo, por cada dos y aquí he hecho y en cada día con fecha. Entonces, vamos a ser bien de 17, no hayan prevido, no, no, fecha, como de los videos. Cuanto corto, una parte que tengo video, no te vas a hacer, ¿qué fue? Lo he hecho, la derecha, pues esto es la mano. Hacen. Las plantas muy bien, no son. En una semana empezamos a ir y ya, te vas, la voy a salvar. Cuanto corto llegamos a octubre ese tiempo, me pasaba cuando fui. 14 piso producción, entonces bien, pues se compró un cabello. Esa fue mi gestión, entonces, ese cuando yo llegué a la feria de la política y el guamme dio y así. Así, todo por ti, así pasaba así, cachaba, pedí con la bachín, pues yo llegué a un nuevo video, que le hiciste a la hielo. Así. Maravilloso, es que no, no es, es que voy a pagar, yo. Hasta yo me sorprendé, con eso me voy. Maravilloso. Y eso me permitió y avanzando porque la verdad está en los primeros 200 kilómetros. Ahí te hablo, bueno, es bacálle. Entonces un poco oferte la de repuerto y estamos viendo, estamos recién impresionante porque ya no hay en la otra temporada, ahora se preparó la temporada. Y estoy a ella, tengo, mira, a mí no mejor que te desperdas, me he pasado de bastamento, me he pasado en una auto, tengo una minigua de a medir en agua, es, es, es, sondiado lo de chíodere. Muy verdudo, así poco a menos. Me he hecho aquí pero, sí, son brazos. Pero, pero si te hago limadero, ahora bueno, déjame algo, no, era grande. Y te dos veces se, dos de cosas grandes, gran, estamos hablando, 20 biocidos, 30 y los bajé porque no, déjame, voy a un de, voy a debarar más y ya tenemos la noche a carter el gime, lo levantamos y ya tenemos la logística al cambio, el directo, la chánea. Entonces, ahora yo tengo mi producto funcionando y estoy valiado. Entonces, la vuelta ahora es que el del chúo va a haber 6 químites, el número 8 va a haber 8 intereses, pero hasta ahí lo está metiendo, lo está pidiendo. Poco mejora mi negociación porque no puede ser que no se, te inventan, te va a ver este, nunca mi producto, el vuelo no ha entas tiempo. Sí, sí, correcto. Entonces, mi estrategia mía es que sea una estrategia económica, es una estrategia natural que tenga una estrategia que el vuelo se pueda tomar el producto, que guamiga, hoy el producto, vamos, vamos a la bioma, bajamos, aquí luego con la espiralina, aquí la proceso, aquí la vaso, aquí la vento, esta sobre el sí, el campo de AD, el platín he hecho con toda la bale de dos. Entonces, eso tiene una diferenciación, entonces, entonces, que no estoy haciendo de forma manual, de transabilidad. Entonces, que ahí en estos tubulos, entonces, diez días y cuatro reuniones con dichos, te va a ir a ellos de ella, me diré los tirs, como frente a una reunión de eso, y yo vendiendo, ahora tú con una reunión, ahora con otra, sí, es que hay que difrasarse, tengo un programa de razon. Entonces, claro, y los tengo ahí, ahora con ninguno siempre, pero ahí lo que me gané de eso, aquí la verdad, ahora yo te voy a decir, ¿dónde cambió mi negocio? De la última valla que yo soy una empresa chiquitita, un, que es la editorora, que tiene varias empresas chicas, la chiquitana que tiene su producto, este es mío, este es mío, que es proceso, ¿por qué a ver el mío? Que la que estaba cocinando, como cuerpo, que mía, la buena toda, eso ya está mismo, lo sé que veo, esto va, cuando tú te transformaste en este formulador, existe, o yo me diguenta que la gran empresa, Cortera, que es mi cuerpo, tiene un mundo como yo, correcto, ¿qué es un experto en la materia? Tiene un mundo como yo, con una empresa formuladora, chiquitita, como yo, que cuando hacer la alianza y ellos que será estudo, le vete y crece y les vendré ese pronto terminado, y ya te la verdad le hace, pa, pa, pa, pa, pa, correcto. Sin gesta, tiene una empresa aquí, como mi prosel mío, pero siempre es más grande, que sea un botánico alzo ocho, y botánico alzo ocho, eso es un tutorial muy parecido, mi agua, ¿qué es un? En contumpluto de diferenciador, en pasas a poninas, en boticia y se sentó así, no interesa el botánico, y eso todo el proceso que recento es parte de lo yo, la ele, así va a hacer este programa, es como un quiso de la venta de la agua y botar la envasa en el agua. ¿Qué es el reenbol? ¿Qué es el reenbol? No, agua, agua, en el penectino. Mira, pero se la copió el reenbol, si lo huele. Sí, parece, está igual lo mismo, tiene que ver, y meterte en los campos, veillar a la sesor, meterte en las comunidades, si tú tenías aquí, levanta la idea, puta, la agua, manta de información, sacaste el folletito listo, lo subí en la página y empezar, entonces me va a ver, yo estoy en esa tabla, yo me aguaste a tu toque, estoy en la variación, me siento en la invasa del campo, entonces por ejemplo ya tenías un unirles con cuadras, eso sí que es autivurón, pero mira, es autivurón, pero son los que han sido más claro, empece a sentarme el negocio, no con así, no es que es lo que tú esperas de elegirlo, por ahora con mi llamada te, me digo, no solo quiero que damos una ganancia de 16% de tu producto, sobre eso tú verás cuánto le vas a pagar en otros extedores, no solo me pegamos, pues está ahí en 1, 2, 2% toda la logística que damos al local del parracito y todo mi madre del asisto, perfecto, está rallado de gacha, yo lo estoy ver, si me sigo no me ha sido, pero ellos comercializan, y él te pete estarlo, entonces te dan negocio, no me hagas agua, el agua tiene 5.000 productores, porque es un negocio, no me hagas el producto, un suego es este animal, su tigladica son negocios, por qué? te genera 10, 10 son escadres a dirtening, por si muere 2 millones de ador, le dice vos, la revolviendo, la escuela es que no, no importa que no tenga plada, pero igual la ama, le diga la velocidad, no, le genera un keido, o un salto, un poquillo, hasta el poquillo. Mira, son buenos niños, tiene un negocio, ¿como? Si con Asi, ¿como? Cuábrame, managro tiene, mar, es un negocio espectacular, porque el negocio financiero, como antiguo, hay, si vayan un banco, un banco tiene, igual se paga con las semillas, se paga con el modelo brasileño, que lo igual se pasa con las contas. Si yo soy cliente, también digo, como animal tigre, no interesa que hay una regita con tu, no, la doma 10, que es esto, chesta, quiero un año, y yo te doy una entertida, ¿por qué me genera una carpeta del medio pangriante, si no está en chico, y tengo uno bueno, pues se salvele y que siempre, si esta esta el grupo, y no tenía, el niño que yo tenía cuadra, después de cuírico, no te estaba pisando, el pachimón no tenía, algo no en interesa que yo le pague. De hecho, lo interesa que no le pague. Pero aún así, el negocio es más claro, porque el guante lo va a ir a este lado, cambia los otros guanes, hemos tenido todas las reuniones, hemos agotado en la que vamos a apoyar, aquí el guante, entonces el nebuloso, el nebuloso se muestra que te puede... En esa dinámica, ¿por qué tu me entendí este botánica, que nosotros queremos ser nuestros bros, ¿en qué hacer este botánica? En algún minuto, porque sigo la ruta de botánica, yo me empecé la ruta, me ruta a tener ventato, entonces, chato de seguir la ruta porque conozco al guan y el guan vamos conversando y voy sacando la información, entonces él hizo esta misma ruta, el variado de producto lo puso en el base como la la va a editar, en el esquina de los cuartos, no solo la ponemos escanca, también me le he dicho, de que una empresa lo hace y no en Jetter se cabe que se paga ese botán, para el anoche o la hora, y a lo mejor, por ejemplo, y de lo de los super fracos, no de render un biotecnolo, porque si o cuando se le va a elevar el deoís, no se es que ahora te quise, o si esto no se porqué le da, y la protección de la propia intelectua de todas las cosas, y pues ahora va, entonces, también es que entonces toda esa guía está enbida, entonces, en esa dinámica, esa calle del río en la operación, en esa dinámica, ahora entra como el agrón, no, ni proceden ni grabar quien martín que le digo por el conocido que tenemos ahí, en esa dinámica nosotros hicimos una avance en el IMAD, juiz 10 somos el soporte del botánico, Gonzalo, Gonzalo es el que está ocherando hoy, ¿no? El hóssano, ¿no? ¿Te acordaste de lo, ¿no? ¿Te acordaste de lo, ¿no? ¿Te acordaste de lo, ¿no? La peor de la reunión que hicimos con Siljetta, ¿no? ¿Ahí sí sí? Ahora yo tiene lo 2m y adoré mi amor, no, no, yo le pongo con vana que se me pierde, como en el coro te dijo a ti, que dice el quimosa ¿Ah? ¿Rei de la polina? ¿Lej? ¿Lej? Si vos lo sabéis de estar repilléndolo ni el que está repilléndolo ni el que está y que haría valor, ya veréis, tú lo dijiste, oi esto es unidad de soporte, en nuestras palabras aquí lo que hacemos y ya nosotros partimos y hago una nivel de trabajo, esta idea nos llamamos sube, en una bandeja yo hago un diseño estadístico, o sea, pero también lo supongo, la cual es el ocuro, eso es lo que son loco loco realmente porque hay una gran maldad, yo hago un diseño estadístico, una bandeja y yo voy a caché y eso es loco, esto es que la bandeja, ahí hay un cultivo en vitro, le inocordo con la enfermedad y me empieza a probar los productos que está haciendo a la corona. Todo todo ese proceso y subimos un perda y me ha quedado aquí, eso es lo que más me interesa, me llamaba a la tabera y me dijo, ¿sabe qué? o era que era un joys metro, más que el say me hace sol y todo, ¿y cuánto yo me estoy? quiero que tengo de lo que me en la de la dos, sea de botarica solucha, no solo te pagaba una rienda, ¿no? con todo y yo te hecha la plata más para generar brotes, y por ejemplo era robarse el bruto y de la noche la mañana llegué un negocio y llenó el cambio y el rezo que es el negocio el importante, donde hay mucha ruca por lo que se volte todo y empezé el helicuatro. Y pasé este corte, no hablar de buena rada, técnicamente para que tú te cuesta con un inverno aero, es como que yo recibiera el abierto de 4 bastantes. Pero Un invierto con esto me hay luckily jugado a los bastantes. shot no apenas si totalmente ya parte que tenía una fuerza de el mercado que los consumidores están exigiendo que lo vayan viajando en la forma que ya estas repetition. ¿Cuál le lleva a que eseía pigare?) ¿y dónde estén negocios más bonitohalf? ¿Qué cosa esta da? ¿esto entra enoy? ¿esto que te falta el vary? pasición y demás, cuando tú estás hace boquito, hace 50 y 80 entonces... ...para descansar mi condonencia. Y bueno ya el primer día entonces yo se prejio y yo no voy a intervenir tu casa, cuando tú no estas yo lo voy a trabajar mal en el prensa. Ya lo está cuidando del perciano. He hecho la partida que nos puse la odia de los centros. Está muy bonito, ha habado. Y empezamos a fijar, tenemos bodeo, ahora... Entonces empezamos y se sentamos a esa coñera, bueno, ¿vamos a venir? Los que ustedes quieren ver. Te propongo que este hace nuestro punto del cuento. Vamos a llevar a igual, tengo que compartir con la café de octobática con código, hasta cuando es otro igual, listo con manera. Esto es el hengo y lo fresco mismo es el visivo, dale. Le fascino. Entonces ver a que la igual allá va a ser tu reunión, a ver, y de hecho en forma de un negocio cumulado que no. ¿Se lo donde está la mayor? Me lo he hecho hasta ahora. Quien vez de yo ir al campo. Por fin, hace eso, me he hecho aquí, por todo mi lado. Los puntos. Cambiaste el paradigma. ¿No? ¿Qué es ahí? Es el modelo, porque atraí más que andar y buscándonos. Entonces, el tradito, entonces tú, ¿váis conociendo el negocio? ¿Por qué yo he de atrás? Y qué es como alfa, qué hay, como el buen importante. Entonces, si el movimiento y que está... Ah, así, así, así, eso, también. Buscándonos el cabello. Entonces, hoy día estamos en esto. Hoy día aquí, claro, sigue siendo la plataforma con el seco. Ya no tenemos solamente estos productos, tenemos 65 productos, 8 guanes. Me voy a mandar esta guaga. Me voy a mandar esta guaga. Me voy a gastar. Bien, no sé si viste, se pare, completo de guano. ¿Eso? ¿Vidó en el teo de otro chico? No de regubi, a con sesa. Tuventil, no para. Entonces, según me va a gastar, yo no va a ir a trabajar. Compadre lo que te hubo, no. Tío. Me chame. Entonces, porque hacía muy clártelo. ¿Vamos a gastar? Me hago justo el buscar al alas que he tenido. Obviamente que aquí todo lo bueno que Trump fue a llorar los acá. Eso es. ¿Se di? Porque no sí, entonces, está borchando con gente de 7. Entonces, yo... Luka que hay y se me va a go, yo no me arrascartero. Yo se va con mi magia, si un día o quise o llegamos, ahí compadre de alguna vez, entonces, de 60 tonelas. Dame, no me di el fin, da el 5 y se arregla. Y lo paga el contacto para que llegue el lugar para que tu pesa se vea. ¿De qué? Bueno, yo se igual, tú, tú, tú, tú, tú, a dos semanas de cerrar. Y fue con la bendición de Dios, aquí, 4 a la edad, o un bajé más peso, pero es verdad. Y tiro todo lo asociado y el precio a tirarte. Y le he empezado a sacar, no debí en todo el día. 4 o 5 tenerla a semanar para el caixe. O sea, algún todo a la semana, le ha retirado un millón y vea, no me he creado. Que salen de mi vacío, para todo lo chiquito. Y de 20 de los mebosos, entonces, le gire. ¿Le pago todo lo sol? Todo lo que ve diar, es para mi. ¿Caste? Pero sí es una nia, entonces, quiero que más se le llama hacer un producto. Me diría, este año tengo un salgo pide de normal, porque un salgo. Ya hacemos caja y al frente. En cada lugar te la va. Y vamos haciendo caja, vamos a hacer cajas para pagarle su huele. Y si una plataforma y un cuadro de peso compara, uniformemos peso tuyo, no sacamos el daco con verlo, con meterlo. Porque si no unimos vendemos más, si yo veo un buen grato, te lo paso a ti, tú lo sé. Pero todo este huevo, vamos a demorar la edifica. De un salgo, una donena, cinco donena y esto, y bueno, bueno, listo. Sato, ahora, entonces, cuando ya vayan, de ahí mismo, pero se olía más cada. Me dijieras bien, porque yo no ha hecho nada. Y si esto fuera de comerciando, es algo tan difícil de hacer. Porque es lo hiciste, tan difícil de hacer. Porque el coordinador viejo, tú sabes. Y un par de pesos, así que cuáles, te han los culado. Pues, me digo, ¿qué es eso? ¿Tienes antes? Yo te voy a sacar. Tu proto son extraordinarios, pero no, que la guagro. Bueno, yo no soy un buco que tenga la vida al que me soba. Yo es de la misma, como es el cuazo de la misma, de la misma cor... De mi impoco, lo saco la correa. Fantástico, lo más importante. Cato, se pote tu proceso, que era peso como ahora. Ni siquiera tiene tarjeta de dos mil y negre. Paga todo. Y lo tengo limpio. Ni perigo. Y guirado no tiene ningún credo, también está casi solamente un lice, no parece una gran... Son las personas que se le dijeron. Y siempre está cosa, porque yo quiero ver una vez. Yo ya tengo claro, y he tenido un buen negocio. Entonces, hoy día sí digo que pregunté. En mi negocio, en el lado de lo que... Hay dos cuáles que tienen que tener claro para no cargar. Uno. Lo único cierto en algo es el costo. De ahí va adelante, vamos a comerciar toda la data. Lo único cierto es que yo he hecho como lo que lo he dicho, que lo llevaba un costo. Si tú te equivocáis, esto es chuto y el costo te haré la coche tu más. Sí. Porque cuando está en el maldad y te equivocaste... Sí, pues, vendí $2 por 80 centavos. Y vendí por menos de lo que te probo. Que pasa mucho en el agro de harica y lo van a comprender, tomar de azimco nunca. O van a la hora de salir o no es. Me estén entonces. No tienes sentido. Ellos piensan que hay que le echarlo en el amigo de la vanchola o va. Entonces, y la otra tendría que también a mí el raso, por eso quiero ver más que por ésta. Es por ésta. Un negocio gigantesco donde yo entregaba al Ritei y me generaba una factura mensual del 80. No es también una 60 y hasta que mucho plata. Pero cuando me generaba un pavo cierto a este día, me significó que yo llegaba el 2 y no tenía que identificar nunca semana. No me va a ganar el sol. Me negocio el agro por el fuego. Entonces, ¿cuál es el que hagas un agro? No tengo uno porque cagarlan el negocio. Eso es un paviso, lo dos factores. Sí, bueno. Entonces, ¿vale? Voy a cuidar la liquidez. Siempre, siempre. Y ahora que estamos en un etapa de multicrisis, en nivel global, la liquidez la que van. Bueno, metapan a promoción el paquini, creo, bueno, el vierte de taza de uno, comado a uno, 0, 9, y el guay me sigue afectando. Como no lo veo, 0, 100, 0, 100. Yo, se le te ve tu pavés por un etapiel de algún volante de híde y un pavago por 100. Entonces, yo se le vió 100 millones, un momento, ahora 2, 0, 0, 6 y 5. ¿Qué hagas de 1, 1 por 100? ¿Qué haces por 100? Y aún más, el banco tiene garantizado ya la mitad, o sea, con esa mitad de 0, 0, 0, 0, 0, 0, 0, 0 Türkiye 5 y el costo del crédito del 0, 0, 0, 0, 0, 0 y 5. O sea, si yo no me pago, el guay le igual es 100 por 100. Y si le pago, el guay le es 300 por 100. Entonces, toda esta conversación, va gemola a lo que yo hago. Yo llegó con mi dedo y el guay me pide 100. Entonces, ¿cómo vamos? ¿Cómo vamos a una estrategia sustentable en el tiempo? Si yo sé que lo giste y que hagas de salir 5 por 100, realmente lo giste, lo haré en 5 por 100. Puda, está ahí, te muevo el negocio. Yo pido el 30 cuando hago la echegocio y en seguida, si el negocio bueno, me bajo 15. Y ahí no bajo, que necesito un 5 de lo giste. Si o si, ¿qué me dio con el tiempo? Y normalmente te trabajo con el V, te 21, 19, bueno esto. Lo que yo no hago, es que me deja el impase aquí puesto aquí. Ahí te den eso en lo que yo hago y que ahí hay 8 o 8 dinámicos. Entonces, para ordenar el agua, ¿qué lo hago? Se paría de la fría y la empresa formula ahora que tengo el fría de otro socio. Aquí, malvió el turnolo y la gente se excurió algo. Si os pido el bombido, ¿qué os va a mandar a la concha es su madre? El que se lo firmaron a la parte de la guay. Ahora, ahora lo quiero hacer firmas porque necesita brata el culo. Y lo le vaga el roller tail de la guay. Entonces, voy a ir chacado. ¿Qué te pasa? ¿Le paso un olíxio y lo rote aquí? No, me da el chacenía. De puta, hay que ir a la guay. No, juntaron en 18, ¿de lo mismo? Entonces, me pese a muy bien cómo lo voy a ir a Guález. Yo le mando la estructura de contratos con no competencia, con nandesclosure, que prenección de el proviene intelectual. ¿Tú a la guay más raro? Claro. ¿Qué guay es el guay más raro? ¿Qué guay es el guay más raro? ¿Qué guay es el guay más raro? Pero el guay es el maravora. ¿Tú? O lo otro siempre tiene carpeta o otro maravora. ¿Qué te ha dijeron el concha? ¿Pero tiene que ver? Sí, se encuentra. ¿Tiene que ver otro guay? Está lleno. Está lleno, sí, si guay es. Pero no lo haciendo por el jugador. Tiene la necesidad de no tiene que ver en contra de la guay. Exacto, pero no lo haciendo por el jugador. Y de hecho el concha otro guay es que está muy chavado y suchado. O el guay es el abanico, es el actor con un buen ancho. Es el actor con un buen ancho, el volvamos a poner todo. Todo lo que está sabaste y cheque para ahí está bien negociado. Es posicionado. Y lo Yong, que pueda vender en cinco años más para estar como posiciones de edificio. Como me valía de todos los productos míos y sumar a otro producto. ¿Qué también es valor? Todo lo más. ¿Tú? ¿Maravilio? Entonces, esa es mi estructura de negocio y día. Buenísimo, buenísimo. ¿Qué hacha? Más teniendo la unidad estratégica de producción de plantine. La unidad estratégica de semi-hero pasacata. Y el chaucho que va a pagar los viejos de tomate. Lo sigo haciendo. Y ahora vamos a hacer liberas horas. ¿Más de Dios? Un poco me salió negocio y lo mido de arriba. Sí, totalmente. ¿Y qué tenéis que ahora preocuparte de crecer? Entonces, en esa dinámica, es lo que yo hago. Perdona que ahí te da hablar a la devor. No, no, fantástico. Una hora de oro, como se puede decir. Entonces, ese modo. Entonces, no sé qué nosotros podemos hacer. Porque nosotros podemos un poco que tú me chino a mano o yo ir a un chato en una mano a otro lado. ¿Aigua, ¿cómo? ¿Verdas, cositas? ¿Cuándo te podemos generar negocios? ¿No sé qué? ¿Cómo me interesa? ¿Vamos a hacer taparte? Sí. ¿O los tipos productos meterronitales? ¿Tú y dios, ¿cuál es el que se me... Sí, sí. No, no, no, no, no, no, no, pensás, no. ¿Deporrecto? Correcto. Mira, ¿y véras, cositas, todo el financiamiento que nos podemos posicionar, cierto? El tema de financiamiento. Ya, como nos muan, ya, básicamente, sabemos como financiar. Eso es como nuestra gran poder o el poder que yo entrego, ¿sabes? Por ejemplo, como tú me conocí, es en perfil. ¿Dónde te aquelí es tu mi financiamiento? Hoy día, así como en el cual te compensó que tu dios y con el modo año que me conno a acepto. Primero, provisionar plata para imández. O sea, tener un buen fondo mi más de, porque sabéis que ya vayaba la mano. Y en el cuarto, se ha quedado en este tres mes en imández, más de 22 millones. Sí, sí. Y tenéis que ir a calcular el retorno de inversión de ese más de, que no, que es el secreto, porque yo vayaba a buscar eficiáncinima de y el buen que busque eficiáncinima de la lleva, porque ni un buen bosque eficiáncinima de ¿Por qué? Porque tu imández es aplicado al tema comercial. Mucha vez el imández no llega al mercado, pero tú te haciéndo imández para tender un anacial mercado ¿Qué hizo? ¿Cómo se debería hacer? Esa, te pueden... Muchos buenas se pueden inventar, bueno, bueno, pero nunca habéis tenido el mercado y el mercado ya cambió. Por eso fui a la chucha al sol y la chucha al mar de polvo, porque son focos, no fue un nuevo ensinque, una fortuna. Cada producto, son 18 meses, con los 6 millones de maíos, pero tengo la verdad, no tengo la oficina, me diéten como rey, pero cualquier cosa me gusta, porque me dice que a ver, ¿Y quién consiste en tu edad de? Yo, ha estado en una de... ¿Cómo yo te prefiero a ti como el madre de él? Me siente con la verdad. Me voy a mirar, nosotros vamos a hacer una vara de campo, me voy a mirar los productos. Vamos a hacerlo, lo tive, siempre de 70, ísticos, vamos a hacer un poco de nuestro producto, vamos a hacer un poco de objetivo, vamos a la vara, es los cultivos que tú quedo, ya, ahí me gusta, todo va a decir, quiero quitar y hacer esto, listo perfecto. ¿Por qué? Porque hay un producto que es de la trastidad de beca y el quivo, ¿Por qué el quivo? Porque la flor, menos trastía que sí, entonces si yo lo obro y de hecho te cuento humanidad, esto fue hasta ella, estaba porque yo sé de lo menos que me gusta ahí la rey, ¿no? Sí, como yo para conocer misos, ustedes tienen que avisarnos cuando la vida. Y me ha hice el master, ¿tú de ella? No, no, a la bachu, pero quiero la bache que te ha hecho, te le chapa, tolada, o no, la jefe de regal, pero he hecho hasta ahí. Y de no haber listo, ok, debo. Quiero ver la vara, fue con vídeo, toda la vara activa. ¿Por qué mi plaza, hubo? Claro, tengo que sacar los... tengo que ver, o sea, yo estoy claro que soy distinto o cualquier otro lugar, o sea que yo, pero estoy abujoneando. Claro, ¿cuánto sí la se cuenta? Cuando no, no, aquí se muero fecha. Porque mi pétalo aquí... El patrole, seguimiento, tiene que ser sostivo. Entonces, ya, llegamos y está boné, suitra ahí no la deja. Paso un mal de sofá, y se pone. Se diguá bien, bueno, una consulta, ¿sí? ¿Y usted tiene algo a la beja de la desquil? ¿Tienes diez minutos? ¿Pues es la verdad? La pesa en el tético. No, yo soy claro, no me voy a ir de la verdad. Pueses, ¿no? Este producto, mejora la factividad de la beja de la flora. Tiene muchos factores, pero hoy día estoy ablando eso. La factividad, la abulización, la calidad de frudo y la producción de la planta. No, no tengo que ir viendo lo que hace, le tengo que ir de dilenos. Hay una buena voz coséchica gigante que se vea, yo creo que ahí, si podamos hacer algo, un inversión, en un poco secha un inversión en registrarlo en exact un inversión en meter el edad de la vuelta la avión voy a andar el negocio si es hora un laboratorio provo a producir el facti-proloj el imad de en el poco secha porque el consejo y el producto si tú lo aplica yo le llamo al refijor de los poderos africanos en la vera y esto es la motocicla y lo guan ya así la vera con el obvio aquí y ahora lo vemos les tiene un obvio bloqueo y eso pasa a su casa en 5 días lo voy a llevar y me ha mandado una foto la quiero dar el producto el es el mapa al pico y la otra es impecable con los 8 claro porque los colores los flamenos que tienen el producto del pueblo hacen que esto cobro una vez una película aquí un proyecto 7 de mora 7 de mora 7 de pagoda grafitti 7 de grafitti chate la primera grafitti chate es pañola no te ayudas con el lejo bravo voy a traer aquí al cazalon bu el bravo lejo yo lo conozco y la 7 de venezgen venezgena 10,4 ya lo vay al morzano me deja la llave del candado del vibrero y la llave del saltón vale cazal en esa dirárica hay llartos pero tiene que ser un fondo que vay al entao o el iba de que ha ido al entao aquí nos ayúen retomando la conversación y necesidad con el cine de este caso en particular para dar la otra con otro ejemplo el cine adunce a mi cuento solo te amo y lo que tengo es que el puñimuante y una huea como lo que yo pensé que junto a lo cual entonces tiene 5.000 productores que está en la orden yo te voy a traer un seminario una semana 2 te traigo los productores te lo atiendo la siguiente paquete que te estoy jugando y mostramos el producto y si tú quieres sacamos el producto por aquí obviamente hay una comisión de esta pero yo te voy a traer el tríste de la idea de ver porque nosotros lo vamos a ver lo probé me fui me fui disando y si yo que no solo estaba un producto y no me va a ver pero nosotros usamos lo que le vamos con el cine y cambió el rosto y quiero que eso y empezó a la monta porque es uno de los guay de esos impulsos entonces es y me ha de mi nudo y he hecho una vez que no estaba convencido pero este sí que va a asociar una plaza forma comercial no te juro es y más de nosotros tenemos que multiplicar y tenemos nunca es y más de tenemos que multiplicar tiene que considerar que el peces chica tenemos una sola plataforma comercial no tenemos ningún cochatao porque este es el que les gustó está muy justo calzado lo ganamos plaza pero no debo entonces no sonse no sonse y si yo se reinvierte en base y disgueda publicidad me hace un holochero para ponerle un holochero bonito la imagen la imagen y esto es calentito y no está ni tirado y esto es calentito y no está ni tirado y esto es calentito y no está ni tirado estamos asionderlo a una cowardidad no vidis ya tengrund que te unten si se ve viendo no es insane estas alo te cuesta hace menos ¿No es una vez? No, es maravilloso. ¿Mare eso? Hoy felicitaciones por todo. ¿No, mano? ¿El hilo o el hilo de Gachai? Para Dios. Es mi hijo que me asesó el ágil. Es un ágil. Muy límico. Para Dios. No lo que tiene una práctica, el esobarigilero de la investigación de presa. ¿O el hilo? Una parte de forma de comerse este hilo me costó. Pero ahora, ponemos una miro en el portal. ¿O va a la guía de él? Para Dios. Me he sido que si tengan ritmo en el portal, no verán la de que el ritmo, no me pones el hilo. Y se ha ido a que... Quiero un proyecto de hilo que se me llama, de un plato de tonado. Sí, y vos. El chajay a Rosensi. ¿Filito? Entonces, pero no te puedo hablar yo. Voy a ser tu baba, la nena se ha sido así. O sea, Franklin, de... De Bordeaux y de Cácer. Y se hay cual en el cual? Mira, para que hay que ver tengo féssis. Y si querídes, pues toma ahí esta presente. Así es, caro hasta el vallón. O si no queríamos, hay que mostrarle a alguien. Yo sé que vos, carchete, me las fecimen. Con Fertipro, vamos a crecer. Porque el producto es 100% sobre eso. Pero hay un punto aquí, un punto... Un trón de hilo. Que es la biomasa. Si nosotros calamos, o no infinidad, o sea, vivíamos por cierto, millas, chermil y chomps, somos calos. Pero ¿qué más se se le digo a 10 mitos? ¿El puesto de mensaje donde sacamos la biomasa? Tenemos comunidades, ¿no? Sí, sí. Pero también con el se muerto. No, tiene que buscar dónde hay más provolio en la Día América. Sopa, a la sola. Con pacto. Eso es lo que he dicho, la escapición de los 30, entonces yo me... Cuando vino a la unbaja, me va a llevar así, y se topa. Entonces, un correo, o no, ahí está. Me he sido que agarra la gente no esté. Como se hace, los papeles rejiten. Es por ti. Y eso, yo estoy... Vienen que ir. O sea, que agarra el subjeto y dígelo. Y va a afianzar esta empresa, igual ya es por ti, para que salga el mundo. Voy a probar el hipótesis de que es posible. ¿Pontá? ¿Ponísio? Entonces, igual el deporte, voy a llevar el sotidro. Sí. Entonces, ya se conterte, está contesta. No, no, no. Lo brazilé, no, no. No, no, no, no. Ahí. Entonces, pero ese le daba el cachetón. Sí, sí. Claro, porque hiciste una gestión clara y parecido. Claro, claro. Entonces, volviendo al concepto de donde tú puedes meter de cámara, esa es la parte que ahorita está, si no se lo elimarle, como el ejercicio, como el ejercicio. Yo se quedaba wander. De hecho, por eso, ¿cómo está el único amor? ¿Qué te he hecho? Hay que ver cómo lo ponemos cada mesón delante de la guara, quien no lo genere una logística tanto, porque se no va a tener que ver muchas ratas ploras. Y no estoy dispuesto a hacer esa guara. Porque yo no soy debo trabajar aquí, porque no esto no ojamos. Y aquí es la producción. O que yo coloco a cerrar, o algo, ese cuatro tiene que aplicar. Sí. Pero no me quiero dar la logística en el mundo. Pa, que no, ahora va, ¿qué? Ahí se me va a complicar. Hay que estén realizados o hacer la, entonces, tenemos. Recurso, para ir más de... Si o si. No sé cómo la desgera ojara que se han gladiado, porque es mucha raro. Es mucha. Es mucha. Y es mucha raro que al principio no hagas lo normal. No. Porque está apostando a futuras como una venta futura, como una venta futura, como una venta futura. Sí, sí. La cháele. Pero yo sé que sí. Segundo. Una, un capital del trabajo, en fomentar este escalamiento que yo estoy normando yo. Oye, caramente, inevitable. Que venga a vivir a los 500, 600 litros los mí. Yo estoy pensando en vender de mí. Claro. Es que una vez que tenía el market fit que se llama teinicamente, que estáis teniendo tracción y la opación, es super fácil de recomendar una escalabilidad. Entonces, esta escalabilidad... El problema es cuando no dení eso. Entonces, ¿quién necesita esta escalabilidad? La verdad no lo es más grande. Compa, ¿qué es lo que necesitamos? No, compamos una máquina chica los otros. Que lo usan los... Este es mi gavete como moler de la huella del comolino. Como cuando nací la huma, pero esta huella es profesional. Quieeeeeee. Cuesta como 4 belleas de colombianos. Con la misma huella. Acá es que cuesta como otra entabuva. Claro. Que hace la misma negativo. Pero es pasar lo más, debase el malgir esto hacer. Ahí quitenemos. En el escalamiento, sí o sí. Intumesto para la batalla. Con tución de la batalla, maquinar y la dor. Y ahí hay un destal problema que te guardé cuando me cagaron. A mí con la huella que al final nos puede recoger esa plata del seguro. Que la empresa no va a haber con un poco. No es presado, sí. La foto, ¿cómo la de nosotros? No es cuando se cayó la maquina. Por eso fue el chocrimero. Sí, por favor. Esa huella. Imagina que es tiempo que ha pasado. Sí. Pero eso fue el más mediovilleno. Porque eso me significó que yo estés en L.C. Y decidí no hacer la batalla. Y a hace para la tibeteta de pronto. Claro. Y el corte de la esténalía de salida es un nuevo. Un girocito al mío, yo a ver la madre de la batalla. Cuando me llegaron a la vez y tengo funcionando la misma huella. A ver, Dios. A ver, me voy haciendo. Por ti tengo lo que te voy a tirar a chico. Estoy para mi huella. Sí, sí. Ahí yo te he hecho el guía del no, entonces tengo mis reacciones como... Sí, y que te asegurar. No, no, porque estoy vestiendo con él en cachaje. Estoy... Me he caído, sabridos, cuando está. Me he caído, sabridos. ¿Cachaje? Hay que poner la tensión a eso, huido. Y cubrir el riesgo. Al final, en la etapa que está usted, es sacar el riesgo de operación. Cuando sos detalle y es contó esa actuar que es que no está bien apretada. Y voy blindando, blindando, blindando. Claro. Entonces ahí tenemos una segunda y puedes ir la inversión. ¿Qué? Y la tercera sería... Es plan de difusión. Vamos a ir con ésta y he hecho una logística propia. Vamos a ir al directo. Vamos a llegar a una de chicas más grandes. O, kilávero se vea como plataforma convencer para seguir vendiendo. Para no mueren estar a rocer como un pesa formulado. Depende nuestro déjalo. Lo que dentro de la planta. Eso es lo que quieses. Entonces debete lo que se va a necesitar aquí un capital. Sí, totalmente. No, sí capital, ahí. Entonces, ¿cuál es el costo para el poder en Martín de ese capital? ¿Cómo es la forma que se maneja ese capital? Hay que dejar pretender a los carsoncillos. No, no, no. Mira, hay capital público fiscal que hoy día está súper disponible, ya que son los FNR, son los FNR, son los desarrollos, son los soldados y que ni un buen salgo como formulado. Porque el formuelo de esos proyectos tiene que ser expuesto en la moderna. Una pregunta. ¿Hacé esta, chico procede? ¿Cosas que yo puedo...? O sea, que yo lo lo hago para Dios, no lo hago para hacer y yo lo hago para hacer. Mucha vez, una cosa que yo creo que ya me hagan eso es que no hay ningún cochata. Por la razón que yo deí, porque esta en la disegas funciona. El camino hacia la guapa me dijo cuando se cayó en la máquina que solucioné el problema de la cisterna de ahí. Sí, sí, sí. Si tiene una bauta ahora, porque cochata usó. Claro, claro. Y el guapa que me hace la misma cazor me generó una factura. Y dije, ¿pueden hacer los cisterna de ahí? Sí. Y es fantástico. Totalmente. Pero nos fue vos que se lo ocurrió bien. Que lo que quedé, que le hiciera. Entonces, pensando como un nuevo valor. ¿Cachas, lo estoy poniendo a otro lado? Sí. Yo escucho que a mí es un punto crítico como un pez. Dependiendo, porque sí o sí, los socios que trabajan en la empresa tienen que estar contratados. Pero un tema administrativo. Eso no lo tenemos mucho. ¿Qué haces? Entonces, ahí ir blindando. Porque cuando te valúa y está en riesgo... ¿Por qué hablé? ¿Cachar lo que estoy preguntando? ¿Cómo quiere que sea mi perfil para que yo estén cámaros... Exacto. ¿Envede ir a ocar recursos? ¿Cómo está? Y rebota. Exacto. Sí es suelpo. Entonces tú, al res, nosotros lo aceptamos. Si, quiere trabajar con nosotros y pegar una mano. Oye, oye. Entonces, tú ves si se hay aquí más que te varta esto, esto es el y nosotros lo hacen. No importa qué ven y me muere un año, no importa. Pero aquí, cuando lo tenga hecho, yo sé que en el momento de... Vamos. ¿Por qué mira? Vamos a la parte. ¿Estoy vendiendo? ¿Partir vendiendo en blanco? No hay a ti, a ti, a ti, a ti. No, a ti, no. No, a lo compadre algo que conoce. ¿Por qué se ingeran en la lukita? ¿Qué es eso? ¿Es fundamental? ¿Y es ingeran en la lukita? Ma, yo no salía en la equipe. ¿Por qué? El martín quiere aquí, o vos su platita, con la cajita de la chuba vive. ¿Tar resuelto? Sí. Pero no pude ir a chujar ese negocio con el 28. Claro. ¿Correcto? Sería el perro de vía a tu tuyo vía. Sí, sí. ¿Me gase? Me gase a igual. Entonces, la voy a tener... Tengo que hacer la diviz solo de alguna forma. Y te suelo en esto. Vendí en blanco. Y me pese. ¿Qué hacha? Hay cosas que necesito, por ejemplo, recena ahora. Tengo la guapa para poner la dirección que ven para dar la valente. Si yo me lo volví a hacer mucho, ¿me hace? Sí. No vamos a ir y vendí antes. ¿Y cuál? Sí. Me me le che. ¿Qué es el recense? ¿Qué es el recense? Ahí tengo 8 puntos. Ahí necesitamos también el apoyo. En mi no la ha siguiado. Casa mil no ha sido 52. No hay plano. No hay plano, mil no es 250. Y yo la he... Estaba que tuve yo la he... El mil no es 50. No, chonad. Son a veces una guartecita. Mira, arvete yo. Mira ese cero no es 50. No es 50. No es 50. Si tú te o seas resa y cuáles la dirección, va a un paja. Va. Mira. No chonad. Y aquí te igual. Por eso te freco. Mira, esto es de mira. Pensad que tú te asco. No puedo regorrese a este góremes en esta arena. ¿Cómo lo hago? ¿Cómo es el que estoy? ¿Y si tú cuáles? ¿No acabas? ¿Cómo vas a volar? ¿Quién era un contrasto de abriando? De Martin Quilackio. O sea, si no lo firmo yo vivo. O que soy guay y representante, que lo firmé menos o sea. Claro. Totalmente correcto. Estoy ahora, porque ahora ya tengo una bluguita. Empezas a estar parlo hoyo. Correcto. A vos te juguemos así y ganamos cada uno. No, pero pasamos. Pasamos ya. Tenemos el tema del aparte software. Todo es bueno, ¿no? No hubiera a ser permiso de desviar su identidad, sino que no tengo una guapa. Claro. Totalmente. Totalmente con eso. Es que el tag en el negocio. ¿No es que ha hecho? Ahora, porque lo bueno aquí pesaban en colina. ¿Qué luce sueldo? Bueno, ya estoy agrícola, exclusivo. ¿Todo es todo? ¿Todo es el contento? ¿Aye vamos a decirlo, Choyua? Sí. ¿Cómo lo realizamos? ¿Se contena? Claro. ¿A qué? ¿Todo? ¿Todo? ¿Por qué? ¿Por qué? ¿Por qué vamos a necesitar un nuevo? ¿Cómo gestionar? ¿Sabe con un 24 o un? No sé igual. ¿No tengo idea? ¿Cómo vas a ver? ¿Pobriré con tener que lo pusiste? Claro. ¿No sacamos como dodera de fertilizarte? No somos buenos, esa es poco. Claro. ¿Por qué? La otra fase va a tener que tú si quieres. ¿Cómo vamos a hacer nuestro olor de tome? Ahí el lado, nos vamos allá. ¿Cucho bien el nivel de uno? No tengo idea. Claro. Está filete. ¿Harto oportunidad aquí pensar? Mira, te felicito. Fantástico todo lo que he dicho. Y también me he velado el lomo. Y creo que estamos en buena posición cada uno de un infuerzo. Así que, mira, yo idea, ópero con uno abogado, ¿sierto? Mi socio, mi misocia del fondo tan Irlanda, que es la CEO de Crypto Market. ¿Qué es? Que otro tema, el Fieras de Elers, ¿sierto? Mi otro socio de Royes, es The Rich, que fue el setebo del gobierno digital. Gracias a ese Guadalupe, que pudimos sacar la Comissaría de Victua cuando estamos todo lo van encerrado. Pero bueno, hoy día tiene su propia empresa, ¿sierto? También es gestar el fondo. Entonces, yo no lo veo con ella y le presento la oportunidad y si os iban. Si os iban. Entonces, después tu madre de los detalles y cómo... Si que hay este logón, mira, yo me hice como un escala. Sí. Punto aquí tengo ideas de present. El regulación de su ego, ¿sabes? Y yo tengo los permisos del sector o lo va. Pase sofrado. Bueno, Dios. Pero no estoy... No estoy pago en la patente porque no he podido regularizar eso. No, no, no, no. ¿Es por qué? Acabo de mirar la vaca. No, no, no, no. No, no, no. Eso lo podemos ilucionar todo a costo. Todo a costo, sacar todo a costo. Eso es una vaca. Después, el estructural de la empresa. Todo está en el... Estes 7 superchapalentos. Sí. No un buen correo, porque quiero que te diga... Si, y tenéis que tener un directorio, ¿sierto? Esa directorio, y tenéis que tener un acuerdo de accionistas. ¿sierto? Porque, por ejemplo, en socio, dice que es que van. No, no, no, me voy. Me voy, quiero vender mi parte. Y aquí en serio, tenéis que vender. Tenéis que venderse en otros. O sea, bueno, me voy a venderse en la calle. A cualquier lugar, también te lo obtivaron aquí. Entonces esas cosas se van regularizando que es parte de la gobernanza corporativa. Y eso se mira bien, porque quiere decir que tu tenéis un sistema de gobernanza donde no lo lo voy a hacer lo que quiere. Por eso yo creo que tu presentación de este proyecto se tenéis que hablarlo. Lo que te comenté, pero le está pa uno. Si no se lo haría, van a guardar. Es que tenéis que si o si ordenarme tú. Sí. ¿Cómo preferir que tú? Totalmente. Es que este es mi rato que le pesa estajo. No el puedo. Si, vamos. Está votado poniendo. Si. Entonces, bueno, le dejo en la procesó tan himadre, le falta el lugar, pero punto de que hable. Parte de mi chatilla. Lo que es claro. Ordenamiento de tipo judicial. No sé cómo lo queda y amarca, ¿no? Muy bien, claro. Muy bien, claro. Muy bien. Claro, administrativo. Claro, sí, claro. Tenemos que hacerlo así. Converse con esto y firma aquí. Hace de forma colchato. Es. Todo eso. Para no tener errores, porque después os mismo te lo voy a visitar a ti. Corre. Sí, por favor. Si, glítimo. Oye, te oye, te oye. Por favor. Parte de orden después. ¿Cómo vamos a vestir el imadé? ¿Dónde han movido cada vez? Claro. ¿Qué institución nos convieras el imadé? Sí. Pensando, perdón, perdón, por ejemplo, a tiro un incidenio de la vaca. Sí, totalmente. Totalmente. Ya hay un montón de universidades que nosotros conocemos que están... Por aquí de la vaca, volverme a llegar, ¿no? Sí. Me gaste. ¿Tú cosas así? Sí, fantástico. Mira, en ese periodo, nosotros tenemos que estructurar el llamado de capital que se llama. Que cuando tú ves si lo mismo, mira, en imadé, no solo nos... No, estamos prenficando gastando las lucas de esta forma. No tanto por sentar que para esto no nos pusimos pregabados. Y eso tendrán los bien estructurales. Lo que no tengo claro, porque me faltan conocimiento. En ese estudio de mercado, no tengo claro cómo puede ser la curva de crecimiento. Eso no tengo claro, yo estoy superhoreta. Ya. Pero voy creciendo. Ya? Es que es el bien. Y mi concepto, perdón, mi concepto y a todo. Y no tengo solo aquí, a mi sí, pues, usted tiene que disparar todos los días. No entente mandar el parro, dispara, dispara, dispara, dispara, dispara, dispara, ¿por qué me da un poco a este? Porque a veces he pedido tiempo. Plata. Viajo. Covía. El buen nuevo comprobará. No, no, nada. Daga vuelta y ahora dime, no me dice, nos marché esa para así, te va a ver, quiero mi vida. Sí, sí, sí, sí, sí. Pasa eso. Les puedo nommas de vuelta. Y con chesum. Me tuvo matando, ahí. Ahora, mira, veis, cuantos, ahí hayan recitado, no? Sí, sí, sí. Y tú que no me es cartucho, ahí, el curio, ahí, mirando para el cierra. Suelo pasar, suelo pasar. Sí, bien, en esa, hay una estrategia de llegar al mercado y nos vamos a pasar en ese mismo estudio de line de que hay unidad de producción agropecuaria. Aquí en la zona de la Cristobolita, hay más de 5.000 que es toda la más que el sonanorte. Se lo estoy básicamente atacando un mercado de 30 a 34 millones de dólares mensuales. Como como el coraluno la ha trabado. Un tema jurídico y hecho de mí. Lo grayes a esta. Volvemos al análisis que yo, cujo caja. Onde está ese coso? Por ejemplo, yo bajé una compra de 170 millones. ¿Por qué? Dijo yo. Mira, me ganaba un 37,5%. No me ganaba de dar algo. Pero sí que va a ser este vuelo, ¿no me pagan? Porque veo que es. Es mucho leo. Es si usted una empresa asegura ahora cuando tú... ¿Por qué? Baja a crezar. Mira qué soy positivo, ¿no? Vamos a crezar. En 1, 2, 3 o 5 brutus. Incluso la plataforma, ¿cómo es que te sacaría? Pero el procede. ¿Me venía? ¿Por qué? Tú que a veces te tenía que pensar que tenía esta empresa formuladora. ¿Qué hiciste? Claro. Que la dijimos con un empresa formuladora. No la contanidemos con el licho cuñaga. Sí. Entonces, este licho, producido, se lo bajaba puesto aquí en esta mesa. Y aquí, en elocerme, que a ver, ahora soy esquilar, ¿no se vea? Claro. ¿Quién es tu? La factura de tu, la logística de tu cuenta. Es suave. ¿El agraviendo de la nueva? ¿Me cacha? Es interaccionante a la empresa que tiene que estructurar también. ¿Ya? Yo soy esquilar, lo sol. Sí. Ese aviso me ocurrió en la narah sin sonreo. Fantástico. ¿Sabes por qué? Es que la plata fue más importante. Una pequeña, más importante. ¿Cómo artín, esquila? Aquí, a este empresa no vendía esta semilla. Una alternación, no se veía. El buen allá, en la Cerándoa, y más. ¿Y quién es tan vententa, verso? El natural. Claro. ¿Le era un ver nombre? Sí. ¿Quién era la Cerriá? En su minuto, y me dijo, ¿te quiera hacerla? ¿Puedes ser un web? Sí, totalmente. ¿E una CBR? Puedes ser de uno para el lado. Ay, ¿pues? Sí, de uno. Sí. Ah, ¿eh? Sí. ¿Por qué lo hago aquí? ¿Y a ver lo de allá? Más de lo dado de sonpen. ¿Quién apretemente lo mismo? Sí. ¿Pero de ir aquí la de la CBR? ¿O qué? Sí. ¿Credito? 150 mil. Formalidad. Es correcto. Sí. ¿Só la mente que han vendido? Sí, totalmente. No. Necesito ir a guardar. ¿Qué pasa? Que vas a ir de personal a tu lado, a la persona purica, y eso cambia totalmente la... Entonces, en ese mismo ordenamiento también necesito ir a la voy. Sí, totalmente. Mira, yo estoy matido después. Acabo de llegar a China y con todas las pilas puestas, viniendo de San Francisco, de California específicamente. ¿Pas lo de allá? ¿Pas lo de allá? No, a tu uno mes. No. Tuve, bueno, passeó por todo el... El Expo Agro, la Expo Comida. ¿Ya? Me di cuenta que es la Expo que se va a hacer San Francisco todo loado, es que en el antólogo, al en más grande, es cierto. La Expo Agro, agro-tech, es cierto. ¿Tú qué de originalmente? Ah. Me he llamado de mi toa que quiere tú originalmente, que tú y a que tú originalmente. Ah, si en ser atos, que está ahí ticando nada. Ah, no, el he toco. Y aplicar a las finanzas. Ya. Entonces, todo lo que analicis, finalizas. ¿De qué no? Sí, pues, el New York University después de pasar a principales de este... Sí. El New York University, pues, es una madre. Ahí, ahí, o qué, ahí, o qué, ahí, o te conocí. Sí, pues. Entonces, yo, yo, básicamente, estoy dando el mercado, cierto, claro, dije, voy a... De los plásticos. Entonces, ahí, no va a hablar, no lo viejo. ¿Y los patios? ¿Se está hasta la Rusia? Sí, pues, ¿de voy viendo? ¿Voy viendo? Porque le voy to solviendo los dolores, ¿puedo? ¿Y cómo llegaste a la inversión? Porque yo siempre tenía el fondo, pues, si tenía el fondo, pero no tenía el presa dentro. Entonces, me dice, no, ya tenía el fondo. Está en el Crito de los Estados Unidos, está un Sigantel Auer, tenéis todas las creancias, está en el Crito de las Sec, que es como la CMEF, de aquí, de Chile, el sector. Y está listo, muy bien. Y, de hecho, tengo inversión y está respalando, me deciles, con Val, y que son baños del 5% de mi carry. Mi carry se le llama el carry interest, que es como el incentivo. Cuando, por ejemplo, no se pone inversión, también dice, ¿a qué hay un palo verde? ¿Certo? Yo siempre se me dije, general, no sé si esto por ser. Claro, yo le devuelvo al palo verde, y le devuelvo al otro palo verde. Entonces, le paso a dos palo verdes de vuelta. Ah, chuchuchuán. Pero ese palo verde extra que le devuelve, yo cobro el 20%. Ah, ahí se tornó. Sí. Y ese 20% o sea, de la garaza 20% si yo se patir. Correcto. Y ese... ¿Y el inversionista o también al que atendí? No, pero el inversionista. Ya. El todo relación con el inversionista. Y... Un dobega de día. Recudar un goones como yo, recudar un buen esmaga de clío, presentar el proyecto, mi pega es encontrar proyectos como estos, sacarle ese riesgo, valorizarlos bien, y probablemente valorizarlos en Estados Unidos, porque en Estados Unidos tenéis buena valorización. Pues nosotros llegamos con un... con un producto así en Estados Unidos. Ahora ya que te cuanten tiene la 8 palo. Espero que... Ahora escucha... escucha todo. No lo puedo tejer, ¿cómo? Porque así es la vida. Es una conversación, un mal. Pues ya no lo intercerió, usted de aquí lo valida en Estados Unidos. No quiero olvidar, ¿no? Y cómo... No sólo tenemos un proyecto en arte y corve. De ahí no es un ejecutivo. ¿No van sonos? Sí. ¿Qué te aculea? ¿Qué te aculea? ¿Qué te aculea? ¿Qué te hago? Y reles son con prochido, no hay gino. De nada. ¿Franqueuval es mejor? De hecho, le hay que hacer... A ver, estoy en el capo. Bueno. ¿Van a ir cuando... ¿Qué me hacía a FAL? Sí. Y ya empezamos a la etapa. Le entamos por el... ¿Te acabo de tomar mal? Bueno, bueno, era el trupturo de este... Bueno, mira, lo que tenemos empezado, mira, hagámoslo así, el escalamento lo podemos así y puede ser, mira, estas sonas. ¿Estamos un... Creo yo, creo yo. ¿Qué te hago? Creo yo, gino. ¿Cómo se le di? ¿Qué? Como la guá. ¿O se le di? ¿Qué me hacía igual? ¿Cómo? Como el medio recién me hacía un acato. Y en la opción de presentar esto... ahí, ¿qué vamos a ir cuanta uáles? No sé cuanta, pero qué vamos si cuanta. ¿Tienes la opción de impresitar esto en una reunión online? ¿Dónde va a ir un moderador? Que es un... Bueno, profesor de la reunión hacia... de cerca de Florida. Y... 70 uáles que eran estudiantes de Gereo Oacial y Gereo Oacial, que son... específicos que analizan hasta Uáles, como tú. Es verdad de todo la Uáles. En el trupturo de la ciudad. ¿Vizcon si una crevia? Fluiría, y la otra sanitarja. ¿Por qué más cómo tú? Pudió interestos a Caldo. ¡Estás memang businessman! Pues Downstate. Ahí está,idad. Joder, un productor Honduras, que se gide en bandeja del planeta изcer norto evero, mounted a lungo. Eso lo voy ganando. Vale. Ya algo de huea? de los 50 y nos tocó un día poner 25 y el otro día ponía el otro 25 y a la semana después salimos y se ve salimos número 3, con la idea. Paso, seguimos aquí, es lo que acabamos terminarón, ya no sé, nos tomaron de los 70 muestranes y estudiantes, 17 y 100 trabajas con nosotros y solamente 5, 4 trabajas, 5 veces más quisieron que le guste, no tomaron la muy buena idea y lo empezaron a hacer, donde lo podrían colocar en el cualidad el producto, que le encontraron los sentidos de este día y de esta monetada, 2 que lo tenemos tan bajos y que nosotros no dijimos que le mandaran esto tan bajos, porque hay un presidente que quiere que nosotros lo bañamos, esto si lo que lo podemos hacer, no, no, nosotros no podemos no todavía, porque si nos vamos perdimos por favor, un 8 de situación en día de ahí más de, en eso está, escadimos posicionamos 8 pesos, y ahí, pero hicimos otra, ya nos dimos cuenta que le idea bueno, sí, sí, no, sinceramente, sí, ahora esa parte de ir a bichar esto, puede ir a bichar a la inversonista o ir a ofrecer, de abandonar esto inversonista, esa parte también la voy, hasta entonces yo represento la empresa y yo voy con la presentación y voy a apelar con los tiurales y la voy a nos dice no, pero se va a no, vale, 50 valores verdes, sí igual si vale 50 valores verdes, porque este es la reacción descontada al presente, ah, ya, ya, no, pero que esa guarda tiene no se vuelo los registros del agua, sí, si tiene la reacción, esa te lee alguna es la que yo voy a dar con la guarda, entonces la selección también de inversonista estratégica, sí, porque no voy a ir a cualquier inversonista, no, tienes que ir a un versionista que se le llama es Marmani, el esmarmani, soy el dinero inteligente que lo bueno ya tiene posición en su empresa, ya tiene empresa agro que se benefician directamente de la adquisición de otra empresa, ya hay una sinergía, por eso lo bueno llegieron a esa chone, se voy a ir a un buen eje, lo va a clara que alguno de esos guay también su papá o alguien que le, y la misma, la misma unidad, todos unidos también tienen fondos de inversiones que son en Daumen Fund, así que, y el peo, sí, y yo soy gringo también, si yo no tengo que naturalizar, pues ya no a mis señores, me costó un montonio a mis señores, me tuve que compartir en gringo, sí que pasó en Marte, sí, pueden podon, la sofa y la mina, la sera la ya, ya voy a dar acá, pues hay que, yo me quise venir para acá porque allá bueno en la familia, estaba en New York, bueno en cualquier momento, porque ranto, conmigo, tenemos las niñas juntos, pero solo, y yo sé que bueno, Chile, no tola bueno y sabemos, en Chile le hago a dar como una, y yo se ve acá, pero bueno, ahora ya está grabando el tracción, ya, entonces eso mira, yo veo, alto, alto punto de optimización, como estoy de acuerdo contigo, estabilizar, se va a tu robustecer y después ir a vender con, y vender bien valedices, y también ponerse cabrón, si, al final tu suelpremio, quiero un casador vio, bueno yo te lo dije en un momento, tu suelpremio, que es un guante y de ballado, no, tu suelpremio, ¿no? que esa dinámica lo huele en la cambia y te baja en el precio, y aquí en Chile lamentablemente, el modelo de capital de riesgo está super corrompido, ¿por qué? porque una huay que se llama el multivut, lo huele este venden empresas muriéndote, como voy no tengo un par de empresas que están muriéndole la huay a gris, tras pasar carga fiscal, carcheto no, entonces lo huele no, no están pendientes de empresas que sí tienen valor y que van valorizándose mes a mes, tu con todo este desarrollo que hay haciendo mes a mes, el precio de tu acción va sumiendo, porque calaste con un bijo, que será usted con un huevo, que tiene un nuevo notorio, tu es agua, va agregándole el balón, ah obviamente, o sea, guapo, va a estirar en el agua de agua, o sea, entonces hoy día he grabado, me llamo solo, que no era mi área, pero me he ido mediando el mundo al acessor de los guananes, como de Belagad y la primera ruedera como lo hago yo, la última ruedión, estaba en otro socio, como un penteor que no era, empezó a hablar y yo caché por el agua y de algún puntabill, mi cabellero, y se iba para mayor lo más, entonces y dije, caché que el guano era un talidad de la cosa, se vuelve a volar el agua del avión más, el agua se cubriaba, o sea, el pecector o una voz y entonces y mirar, tu producto de diferencia, ¿qué no está en el cao, qué tú no lo pudo? O sea, competir de este, este, este es un producto que tú lo vendías en el 7 al lugar, el producto sale, por tanto en tu beso, el 35 al lugar mal, con el 8 al ligación es útil, entonces yo siento en la aplicación, donde un producto de la aplicación, el 67 al ac chance costa ver si estoy entendiendo que es lo que por el 5. no lo hable y se viene muy alto, o sea a dar lejos, Simple, asshole, los colores, empiezas, una cara y solo básicamente estásinea una cara spontaneous, accessa sonando de un��a, e algo es diferente que recon столько para este plano, la prisión público, bueno, hay mas bajado porque los trusco, mi amor, a este y la reunión de 20 minutos, y tuymos 1 hora para ir. Y de lo que te digo, ¿cuál es su problema? No, ya está abrilada. Y tú, todos los gísticas, ¿me saben, ¿tocó más de los dos o se naños? ¿Cuánto día tiene los gísticas? Tenía un costo de los gísticas, ¿vamos a tomar algo? ¿Por qué eso me significa que yo te hubo que tener un reto pronto en toda la ciudad de la vida? ¡Oh, no, ya no! Sí, sí, pues, es que en el viste de la alma lo vamos. ¡Ah, claro! Me dije, mira, me dije, no quiero ser pesado, te conozco. Pero yo que está con eso, quiero que me raíz la noche. Así, fe esto, fe. ¡Dime tu, me importa! Me importa el cual es a tu mar que como su huevo, pero yo quiero. Ok, me parece suave, entonces. Quiero quince morcer. Leer un asico, tú lo termina. Por favor, me expreso bien. La logística, el merte, en este loco, si el producto no se ve de la nota de la religión. ¡Esto! ¡Venga, claro! ¿Cómo me va? ¿Contaba, vede? Toda factura se acepta, impagalidad. No era el chazo, no era la hora. O que me te dijo, con la fila, con la pavé de un día, todo el colcho que tiene el sumo. ¿Esto? Abobe. ¿Qué es eso? ¿Era? Sí, sí. Mira, te puede gustar o no. Yo me puede gustar tu idea o no. Pero tú prefiero que tú me reízáis aquí. No está ya. Ok, ¿por qué no estoy atuerto? ¿No me voy a bajar? No estamos a todos mis papárez. Pablo, ¿no tienes que ajustarnos? Sí, es que es la idea. ¿Y después? Ahora sí. Ahora sí. Y uno, en final, a la puesta en los fundadores. ¿Qué has traído? Más que en el nervoso, porque el nervoso va cambiando. Siempre. Entonces, cuando las personas que están atrás, el secreto, tienen que ser la que ha pasado tal. Independiente, y ya me di cuenta, mira, el modelo del grinco, verso cualquier otro modelo, para mí el grinco no hace intervijerte. A mí lo que hace el grinco es muy estratégico. ¿Y qué es el tío? ¿Sabe cómo? ¿Cómo forma? Entonces, se está ahí, te muere, bueno, me haré ese grinco. Ah, te voy a ver un chino agulado a las resemas pratas. A la otra, me voy a ver porque me puedo hacer la jugada. ¿Juntar su equipo? Eso va a ser muy bien. Sí, articulan muy bien. Muy bien. Entonces, un modelo que yo he seguido, porque obviamente uno tiene... Yo sé, ahora sí, gracias a tu y a la gente. Paso claro. Pueden yo estar formando el váctecto, posible que yo de transferer a Mixed Generation y a mi mi mi nosbeliev con lo que era así. A, teníamos una inf herramienta ahora ahí y se te siento cuál? Ahí te dumel su engorrimesi加油, cuatro a los años que tibacaka pero ya estoy entendiendo. Y para estravilera, tenéis dos tomo así, cuando lo sé. Con Chocay nos cioè todo. Eso se Taylor, o sea, así. Entonces imagímones de la cantidad cambia el que he visto y Jennifer esta muy malo. no, fantástico. ¿Qué es bueno eso? Y luego he dado una vuelta, ¿cuál es una investigación cierto? Y lo que yo quiero como te ordené eso mira. Recurso pa' y más de. Recurso pa' fortalecer mi expresa los puntos que digo de tener. Y le echa que diga el fondo de escalamiento. Claro, el mismo. Abusté bueno a ir. Perfecto. No hago ni una ocha o gama por el minuto. Ya, maravilloso. Yo me quedo con eso, hagamos una propuesta y nos juntamos y creo que la próxima semana. ¿Por qué? Esto, para hacer todo esto necesitamos franquear los detalles. ¿Qué hace tu contato? Tuve decir así, fue como te voy a hacerme el contato todo. O sea, que el buen cuando lo era, es lo que quiere esperando. No sé si me entendí. Sí, correcto. ¿Cómo hacemos? Mira, tengo esta, sacamos permiso. Es que cuando nos verifiquen los locos digan a estos buenas son exemplar. Y sean auditables en cualquier momento. ¿Qué es eso? En tu cabeza piensa que el martín quiera que opa regulizar esa odeja, le va a realitar de su pédero a procesos. Si, si. De verdad, que el unido también sea de unido procesos. Y el proceso y el día es que tú tenes tu propio abortafolio. Mi procesos. El coste, el uno. El dos de guilabro. Maravilloso. Me estoy de acuerdo. Así me voy. Y el té es la oficina agrícola. Maravilloso. Y te ve gente que te va a hacer por los cheques y té un poco oficina agrícola porque el proceso debe estar aceptado en el primero mesila. Claro, claro. Pero no, hace mucho malo porque estamos fresquitos, más piernos, no más. Sí, no, maravilloso. Me encanta, yo creo que yo soy un montón y felicitación. Es mi es mi es mi es mi es mi. ¿Por qué estoy aquí yo? Porque realmente mi mira puede ayudar a gente cómodo. Pero. Más que la luz, más que todo, soy yo creo que es... Pero es un día vale, vale. El elinamiento de valores. Creo que un hace un negocio legítimo desde cero. Otro año es el corazón redo. Entonces por eso, por eso, ¿cómo tiene? Y ahí esos en sí, Rossell. Y este Rossell quiere el tregar estado de hígita. Se le trae esa plataforma al comerciar que hay. Es otro negocio que hay ahí también vamos a tener que echar malo. Como malo, ya. Porque yo, ahí así como un apoyo, la digustur. Si, si la parte de la partida, voy a ir asesoría así parte. Con esa plataforma del comerciar le va a ir resolviendo los viejos orientabilidad. Entonces, esa entre la plantina, va el producto, va a ir asesoría, va a todo ahora. Y también los fidelizarte porque es así, bueno, negocios con ella, me voy a dar un pueta, se quedan con uno. Entonces esa verdad es para que me quede parte de V que dueve sacar como una parte del negocio para acá. Tenemos que ir a los de verdad que hay la raza por aquí, puede vender todos los esperados. Otro, perdón, ocho por ser más también. Ahí se lo yo soy, yo. Eso también te niqui. ¿La que? Sí, lo dame, te la enquilo. Ya, fantástico, que era un honesto. A ver, me amara, esta es su musulaje. Oye, por la reunión. No, no, no, no, no, no. No, no, no, no, no, no. No, muy lindo. Ya me puedo coupiendo. Dos días, dan log??? No, pero forechazро en el entrante имеет certificate, las fortes diferentes completarán, y los rechazardones velos… ¿Y por fin algo innovado si cómo te es dispong Lojero Transмотри. son los cococopos ya querido no vemos que está bien\n"
          ]
        }
      ],
      "source": [
        "import whisper\n",
        "\n",
        "# Cargar el modelo de Whisper\n",
        "model = whisper.load_model(\"base\")  # Puedes cambiar \"base\" por \"small\", \"medium\" o \"large\"\n",
        "\n",
        "# Transcribir el archivo de audio\n",
        "result = model.transcribe(\"Reu Quilagro.m4a\", language=\"es\")\n",
        "\n",
        "# Mostrar la transcripción\n",
        "print(result[\"text\"])"
      ]
    },
    {
      "cell_type": "markdown",
      "source": [
        "Paso 4: Guarda la transcripción (opcional)\n",
        "Si necesitas guardar el resultado en un archivo:"
      ],
      "metadata": {
        "id": "uZizYYJGw6TV"
      }
    },
    {
      "cell_type": "code",
      "source": [
        "# Mostrar la transcripción\n",
        "print(result[\"text\"])"
      ],
      "metadata": {
        "colab": {
          "base_uri": "https://localhost:8080/",
          "height": 158
        },
        "id": "FoMW4AhOxZ29",
        "outputId": "676df609-2d9e-477e-f024-af0e673b40d4"
      },
      "execution_count": 3,
      "outputs": [
        {
          "output_type": "error",
          "ename": "NameError",
          "evalue": "name 'result' is not defined",
          "traceback": [
            "\u001b[0;31m---------------------------------------------------------------------------\u001b[0m",
            "\u001b[0;31mNameError\u001b[0m                                 Traceback (most recent call last)",
            "\u001b[0;32m<ipython-input-3-9dcf35f91c43>\u001b[0m in \u001b[0;36m<cell line: 2>\u001b[0;34m()\u001b[0m\n\u001b[1;32m      1\u001b[0m \u001b[0;31m# Mostrar la transcripción\u001b[0m\u001b[0;34m\u001b[0m\u001b[0;34m\u001b[0m\u001b[0m\n\u001b[0;32m----> 2\u001b[0;31m \u001b[0mprint\u001b[0m\u001b[0;34m(\u001b[0m\u001b[0mresult\u001b[0m\u001b[0;34m[\u001b[0m\u001b[0;34m\"text\"\u001b[0m\u001b[0;34m]\u001b[0m\u001b[0;34m)\u001b[0m\u001b[0;34m\u001b[0m\u001b[0;34m\u001b[0m\u001b[0m\n\u001b[0m",
            "\u001b[0;31mNameError\u001b[0m: name 'result' is not defined"
          ]
        }
      ]
    }
  ],
  "metadata": {
    "colab": {
      "provenance": [],
      "authorship_tag": "ABX9TyOiR67G6acJehSENePYmikb",
      "include_colab_link": true
    },
    "kernelspec": {
      "display_name": "Python 3",
      "name": "python3"
    },
    "language_info": {
      "name": "python"
    }
  },
  "nbformat": 4,
  "nbformat_minor": 0
}